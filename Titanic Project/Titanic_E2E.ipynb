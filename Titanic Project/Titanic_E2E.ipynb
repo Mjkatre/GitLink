{
 "cells": [
  {
   "cell_type": "markdown",
   "id": "e243cac8",
   "metadata": {},
   "source": [
    "## Problem Statement"
   ]
  },
  {
   "cell_type": "markdown",
   "id": "09c79a43",
   "metadata": {},
   "source": [
    "- To predict whether the person will survive in incidents like titanic incident. "
   ]
  },
  {
   "cell_type": "markdown",
   "id": "2e24823b",
   "metadata": {},
   "source": [
    "## Import Libraries"
   ]
  },
  {
   "cell_type": "code",
   "execution_count": 108,
   "id": "18378b2b",
   "metadata": {},
   "outputs": [],
   "source": [
    "import pandas as pd\n",
    "import numpy as np\n",
    "import re\n",
    "\n",
    "import sqlalchemy as sa\n",
    "\n",
    "import matplotlib.pyplot as plt\n",
    "import seaborn as sns\n",
    "\n",
    "from sklearn.impute import KNNImputer\n",
    "from sklearn.preprocessing import MinMaxScaler,StandardScaler\n",
    "\n",
    "from sklearn.model_selection import train_test_split,GridSearchCV,RandomizedSearchCV\n",
    "\n",
    "from sklearn.linear_model import LogisticRegression\n",
    "from sklearn.neighbors import KNeighborsClassifier\n",
    "from sklearn.tree import DecisionTreeClassifier\n",
    "from sklearn.ensemble import RandomForestClassifier\n",
    "from sklearn.ensemble import AdaBoostClassifier\n",
    "\n",
    "from sklearn.metrics import confusion_matrix, classification_report, accuracy_score\n",
    "from sklearn.metrics import plot_confusion_matrix\n",
    "\n",
    "\n",
    "\n",
    "import pickle\n",
    "import json\n",
    "\n",
    "import warnings\n",
    "warnings.filterwarnings(\"ignore\")"
   ]
  },
  {
   "cell_type": "code",
   "execution_count": 109,
   "id": "7136c4a2",
   "metadata": {},
   "outputs": [],
   "source": [
    "model=[]\n",
    "Training_acc=[]\n",
    "Testing_acc=[]"
   ]
  },
  {
   "cell_type": "markdown",
   "id": "4c902d1e",
   "metadata": {},
   "source": [
    "## Data Gathering"
   ]
  },
  {
   "cell_type": "code",
   "execution_count": 1,
   "id": "74b92406",
   "metadata": {},
   "outputs": [
    {
     "data": {
      "text/html": [
       "<div>\n",
       "<style scoped>\n",
       "    .dataframe tbody tr th:only-of-type {\n",
       "        vertical-align: middle;\n",
       "    }\n",
       "\n",
       "    .dataframe tbody tr th {\n",
       "        vertical-align: top;\n",
       "    }\n",
       "\n",
       "    .dataframe thead th {\n",
       "        text-align: right;\n",
       "    }\n",
       "</style>\n",
       "<table border=\"1\" class=\"dataframe\">\n",
       "  <thead>\n",
       "    <tr style=\"text-align: right;\">\n",
       "      <th></th>\n",
       "      <th>PassengerId</th>\n",
       "      <th>Survived</th>\n",
       "      <th>Pclass</th>\n",
       "      <th>Name</th>\n",
       "      <th>Gender</th>\n",
       "      <th>Age</th>\n",
       "      <th>SibSp</th>\n",
       "      <th>Parch</th>\n",
       "      <th>Ticket</th>\n",
       "      <th>Fare</th>\n",
       "      <th>Cabin</th>\n",
       "      <th>Embarked</th>\n",
       "    </tr>\n",
       "  </thead>\n",
       "  <tbody>\n",
       "    <tr>\n",
       "      <th>0</th>\n",
       "      <td>1</td>\n",
       "      <td>0</td>\n",
       "      <td>3</td>\n",
       "      <td>Braund, Mr. Owen Harris</td>\n",
       "      <td>male</td>\n",
       "      <td>22.0</td>\n",
       "      <td>1</td>\n",
       "      <td>0</td>\n",
       "      <td>A/5 21171</td>\n",
       "      <td>7.2500</td>\n",
       "      <td>NaN</td>\n",
       "      <td>S</td>\n",
       "    </tr>\n",
       "    <tr>\n",
       "      <th>1</th>\n",
       "      <td>2</td>\n",
       "      <td>1</td>\n",
       "      <td>1</td>\n",
       "      <td>Cumings, Mrs. John Bradley (Florence Briggs Th...</td>\n",
       "      <td>female</td>\n",
       "      <td>38.0</td>\n",
       "      <td>1</td>\n",
       "      <td>0</td>\n",
       "      <td>PC 17599</td>\n",
       "      <td>71.2833</td>\n",
       "      <td>C85</td>\n",
       "      <td>C</td>\n",
       "    </tr>\n",
       "    <tr>\n",
       "      <th>2</th>\n",
       "      <td>3</td>\n",
       "      <td>1</td>\n",
       "      <td>3</td>\n",
       "      <td>Heikkinen, Miss. Laina</td>\n",
       "      <td>female</td>\n",
       "      <td>26.0</td>\n",
       "      <td>0</td>\n",
       "      <td>0</td>\n",
       "      <td>STON/O2. 3101282</td>\n",
       "      <td>7.9250</td>\n",
       "      <td>NaN</td>\n",
       "      <td>S</td>\n",
       "    </tr>\n",
       "    <tr>\n",
       "      <th>3</th>\n",
       "      <td>4</td>\n",
       "      <td>1</td>\n",
       "      <td>1</td>\n",
       "      <td>Futrelle, Mrs. Jacques Heath (Lily May Peel)</td>\n",
       "      <td>female</td>\n",
       "      <td>35.0</td>\n",
       "      <td>1</td>\n",
       "      <td>0</td>\n",
       "      <td>113803</td>\n",
       "      <td>53.1000</td>\n",
       "      <td>C123</td>\n",
       "      <td>S</td>\n",
       "    </tr>\n",
       "    <tr>\n",
       "      <th>4</th>\n",
       "      <td>5</td>\n",
       "      <td>0</td>\n",
       "      <td>3</td>\n",
       "      <td>Allen, Mr. William Henry</td>\n",
       "      <td>male</td>\n",
       "      <td>35.0</td>\n",
       "      <td>0</td>\n",
       "      <td>0</td>\n",
       "      <td>373450</td>\n",
       "      <td>8.0500</td>\n",
       "      <td>NaN</td>\n",
       "      <td>S</td>\n",
       "    </tr>\n",
       "    <tr>\n",
       "      <th>...</th>\n",
       "      <td>...</td>\n",
       "      <td>...</td>\n",
       "      <td>...</td>\n",
       "      <td>...</td>\n",
       "      <td>...</td>\n",
       "      <td>...</td>\n",
       "      <td>...</td>\n",
       "      <td>...</td>\n",
       "      <td>...</td>\n",
       "      <td>...</td>\n",
       "      <td>...</td>\n",
       "      <td>...</td>\n",
       "    </tr>\n",
       "    <tr>\n",
       "      <th>886</th>\n",
       "      <td>887</td>\n",
       "      <td>0</td>\n",
       "      <td>2</td>\n",
       "      <td>Montvila, Rev. Juozas</td>\n",
       "      <td>male</td>\n",
       "      <td>27.0</td>\n",
       "      <td>0</td>\n",
       "      <td>0</td>\n",
       "      <td>211536</td>\n",
       "      <td>13.0000</td>\n",
       "      <td>NaN</td>\n",
       "      <td>S</td>\n",
       "    </tr>\n",
       "    <tr>\n",
       "      <th>887</th>\n",
       "      <td>888</td>\n",
       "      <td>1</td>\n",
       "      <td>1</td>\n",
       "      <td>Graham, Miss. Margaret Edith</td>\n",
       "      <td>female</td>\n",
       "      <td>19.0</td>\n",
       "      <td>0</td>\n",
       "      <td>0</td>\n",
       "      <td>112053</td>\n",
       "      <td>30.0000</td>\n",
       "      <td>B42</td>\n",
       "      <td>S</td>\n",
       "    </tr>\n",
       "    <tr>\n",
       "      <th>888</th>\n",
       "      <td>889</td>\n",
       "      <td>0</td>\n",
       "      <td>3</td>\n",
       "      <td>Johnston, Miss. Catherine Helen \"Carrie\"</td>\n",
       "      <td>female</td>\n",
       "      <td>NaN</td>\n",
       "      <td>1</td>\n",
       "      <td>2</td>\n",
       "      <td>W./C. 6607</td>\n",
       "      <td>23.4500</td>\n",
       "      <td>NaN</td>\n",
       "      <td>S</td>\n",
       "    </tr>\n",
       "    <tr>\n",
       "      <th>889</th>\n",
       "      <td>890</td>\n",
       "      <td>1</td>\n",
       "      <td>1</td>\n",
       "      <td>Behr, Mr. Karl Howell</td>\n",
       "      <td>male</td>\n",
       "      <td>26.0</td>\n",
       "      <td>0</td>\n",
       "      <td>0</td>\n",
       "      <td>111369</td>\n",
       "      <td>30.0000</td>\n",
       "      <td>C148</td>\n",
       "      <td>C</td>\n",
       "    </tr>\n",
       "    <tr>\n",
       "      <th>890</th>\n",
       "      <td>891</td>\n",
       "      <td>0</td>\n",
       "      <td>3</td>\n",
       "      <td>Dooley, Mr. Patrick</td>\n",
       "      <td>male</td>\n",
       "      <td>32.0</td>\n",
       "      <td>0</td>\n",
       "      <td>0</td>\n",
       "      <td>370376</td>\n",
       "      <td>7.7500</td>\n",
       "      <td>NaN</td>\n",
       "      <td>Q</td>\n",
       "    </tr>\n",
       "  </tbody>\n",
       "</table>\n",
       "<p>891 rows × 12 columns</p>\n",
       "</div>"
      ],
      "text/plain": [
       "     PassengerId  Survived  Pclass  \\\n",
       "0              1         0       3   \n",
       "1              2         1       1   \n",
       "2              3         1       3   \n",
       "3              4         1       1   \n",
       "4              5         0       3   \n",
       "..           ...       ...     ...   \n",
       "886          887         0       2   \n",
       "887          888         1       1   \n",
       "888          889         0       3   \n",
       "889          890         1       1   \n",
       "890          891         0       3   \n",
       "\n",
       "                                                  Name  Gender   Age  SibSp  \\\n",
       "0                              Braund, Mr. Owen Harris    male  22.0      1   \n",
       "1    Cumings, Mrs. John Bradley (Florence Briggs Th...  female  38.0      1   \n",
       "2                               Heikkinen, Miss. Laina  female  26.0      0   \n",
       "3         Futrelle, Mrs. Jacques Heath (Lily May Peel)  female  35.0      1   \n",
       "4                             Allen, Mr. William Henry    male  35.0      0   \n",
       "..                                                 ...     ...   ...    ...   \n",
       "886                              Montvila, Rev. Juozas    male  27.0      0   \n",
       "887                       Graham, Miss. Margaret Edith  female  19.0      0   \n",
       "888           Johnston, Miss. Catherine Helen \"Carrie\"  female   NaN      1   \n",
       "889                              Behr, Mr. Karl Howell    male  26.0      0   \n",
       "890                                Dooley, Mr. Patrick    male  32.0      0   \n",
       "\n",
       "     Parch            Ticket     Fare Cabin Embarked  \n",
       "0        0         A/5 21171   7.2500   NaN        S  \n",
       "1        0          PC 17599  71.2833   C85        C  \n",
       "2        0  STON/O2. 3101282   7.9250   NaN        S  \n",
       "3        0            113803  53.1000  C123        S  \n",
       "4        0            373450   8.0500   NaN        S  \n",
       "..     ...               ...      ...   ...      ...  \n",
       "886      0            211536  13.0000   NaN        S  \n",
       "887      0            112053  30.0000   B42        S  \n",
       "888      2        W./C. 6607  23.4500   NaN        S  \n",
       "889      0            111369  30.0000  C148        C  \n",
       "890      0            370376   7.7500   NaN        Q  \n",
       "\n",
       "[891 rows x 12 columns]"
      ]
     },
     "execution_count": 1,
     "metadata": {},
     "output_type": "execute_result"
    }
   ],
   "source": [
    "df = pd.read_csv(\"titanic.csv\")\n",
    "df"
   ]
  },
  {
   "cell_type": "code",
   "execution_count": 112,
   "id": "b4a123c8",
   "metadata": {},
   "outputs": [
    {
     "data": {
      "text/html": [
       "<div>\n",
       "<style scoped>\n",
       "    .dataframe tbody tr th:only-of-type {\n",
       "        vertical-align: middle;\n",
       "    }\n",
       "\n",
       "    .dataframe tbody tr th {\n",
       "        vertical-align: top;\n",
       "    }\n",
       "\n",
       "    .dataframe thead th {\n",
       "        text-align: right;\n",
       "    }\n",
       "</style>\n",
       "<table border=\"1\" class=\"dataframe\">\n",
       "  <thead>\n",
       "    <tr style=\"text-align: right;\">\n",
       "      <th></th>\n",
       "      <th>PassengerId</th>\n",
       "      <th>Survived</th>\n",
       "      <th>Pclass</th>\n",
       "      <th>Name</th>\n",
       "      <th>Gender</th>\n",
       "      <th>Age</th>\n",
       "      <th>SibSp</th>\n",
       "      <th>Parch</th>\n",
       "      <th>Ticket</th>\n",
       "      <th>Fare</th>\n",
       "      <th>Cabin</th>\n",
       "      <th>Embarked</th>\n",
       "    </tr>\n",
       "  </thead>\n",
       "  <tbody>\n",
       "    <tr>\n",
       "      <th>0</th>\n",
       "      <td>1</td>\n",
       "      <td>0</td>\n",
       "      <td>3</td>\n",
       "      <td>Braund, Mr. Owen Harris</td>\n",
       "      <td>male</td>\n",
       "      <td>22</td>\n",
       "      <td>1</td>\n",
       "      <td>0</td>\n",
       "      <td>A/5 21171</td>\n",
       "      <td>7.2500</td>\n",
       "      <td></td>\n",
       "      <td>S</td>\n",
       "    </tr>\n",
       "    <tr>\n",
       "      <th>1</th>\n",
       "      <td>2</td>\n",
       "      <td>1</td>\n",
       "      <td>1</td>\n",
       "      <td>Cumings, Mrs. John Bradley (Florence Briggs Th...</td>\n",
       "      <td>female</td>\n",
       "      <td>38</td>\n",
       "      <td>1</td>\n",
       "      <td>0</td>\n",
       "      <td>PC 17599</td>\n",
       "      <td>71.2833</td>\n",
       "      <td>C85</td>\n",
       "      <td>C</td>\n",
       "    </tr>\n",
       "    <tr>\n",
       "      <th>2</th>\n",
       "      <td>3</td>\n",
       "      <td>1</td>\n",
       "      <td>3</td>\n",
       "      <td>Heikkinen, Miss. Laina</td>\n",
       "      <td>female</td>\n",
       "      <td>26</td>\n",
       "      <td>0</td>\n",
       "      <td>0</td>\n",
       "      <td>STON/O2. 3101282</td>\n",
       "      <td>7.9250</td>\n",
       "      <td></td>\n",
       "      <td>S</td>\n",
       "    </tr>\n",
       "    <tr>\n",
       "      <th>3</th>\n",
       "      <td>4</td>\n",
       "      <td>1</td>\n",
       "      <td>1</td>\n",
       "      <td>Futrelle, Mrs. Jacques Heath (Lily May Peel)</td>\n",
       "      <td>female</td>\n",
       "      <td>35</td>\n",
       "      <td>1</td>\n",
       "      <td>0</td>\n",
       "      <td>113803</td>\n",
       "      <td>53.1000</td>\n",
       "      <td>C123</td>\n",
       "      <td>S</td>\n",
       "    </tr>\n",
       "    <tr>\n",
       "      <th>4</th>\n",
       "      <td>5</td>\n",
       "      <td>0</td>\n",
       "      <td>3</td>\n",
       "      <td>Allen, Mr. William Henry</td>\n",
       "      <td>male</td>\n",
       "      <td>35</td>\n",
       "      <td>0</td>\n",
       "      <td>0</td>\n",
       "      <td>373450</td>\n",
       "      <td>8.0500</td>\n",
       "      <td></td>\n",
       "      <td>S</td>\n",
       "    </tr>\n",
       "  </tbody>\n",
       "</table>\n",
       "</div>"
      ],
      "text/plain": [
       "   PassengerId  Survived  Pclass  \\\n",
       "0            1         0       3   \n",
       "1            2         1       1   \n",
       "2            3         1       3   \n",
       "3            4         1       1   \n",
       "4            5         0       3   \n",
       "\n",
       "                                                Name  Gender Age  SibSp  \\\n",
       "0                            Braund, Mr. Owen Harris    male  22      1   \n",
       "1  Cumings, Mrs. John Bradley (Florence Briggs Th...  female  38      1   \n",
       "2                             Heikkinen, Miss. Laina  female  26      0   \n",
       "3       Futrelle, Mrs. Jacques Heath (Lily May Peel)  female  35      1   \n",
       "4                           Allen, Mr. William Henry    male  35      0   \n",
       "\n",
       "   Parch            Ticket     Fare Cabin Embarked  \n",
       "0      0         A/5 21171   7.2500              S  \n",
       "1      0          PC 17599  71.2833   C85        C  \n",
       "2      0  STON/O2. 3101282   7.9250              S  \n",
       "3      0            113803  53.1000  C123        S  \n",
       "4      0            373450   8.0500              S  "
      ]
     },
     "execution_count": 112,
     "metadata": {},
     "output_type": "execute_result"
    }
   ],
   "source": [
    "df.head()"
   ]
  },
  {
   "cell_type": "markdown",
   "id": "461b41c7",
   "metadata": {},
   "source": [
    "## Exploratory Data Analysis"
   ]
  },
  {
   "cell_type": "code",
   "execution_count": 113,
   "id": "c3ff2294",
   "metadata": {},
   "outputs": [],
   "source": [
    "for i in df.columns:\n",
    "    df[i]=df[i].replace(\"\",np.nan)"
   ]
  },
  {
   "cell_type": "code",
   "execution_count": 114,
   "id": "fb37950a",
   "metadata": {},
   "outputs": [
    {
     "data": {
      "text/html": [
       "<div>\n",
       "<style scoped>\n",
       "    .dataframe tbody tr th:only-of-type {\n",
       "        vertical-align: middle;\n",
       "    }\n",
       "\n",
       "    .dataframe tbody tr th {\n",
       "        vertical-align: top;\n",
       "    }\n",
       "\n",
       "    .dataframe thead th {\n",
       "        text-align: right;\n",
       "    }\n",
       "</style>\n",
       "<table border=\"1\" class=\"dataframe\">\n",
       "  <thead>\n",
       "    <tr style=\"text-align: right;\">\n",
       "      <th></th>\n",
       "      <th>PassengerId</th>\n",
       "      <th>Survived</th>\n",
       "      <th>Pclass</th>\n",
       "      <th>Name</th>\n",
       "      <th>Gender</th>\n",
       "      <th>Age</th>\n",
       "      <th>SibSp</th>\n",
       "      <th>Parch</th>\n",
       "      <th>Ticket</th>\n",
       "      <th>Fare</th>\n",
       "      <th>Cabin</th>\n",
       "      <th>Embarked</th>\n",
       "    </tr>\n",
       "  </thead>\n",
       "  <tbody>\n",
       "    <tr>\n",
       "      <th>0</th>\n",
       "      <td>1</td>\n",
       "      <td>0</td>\n",
       "      <td>3</td>\n",
       "      <td>Braund, Mr. Owen Harris</td>\n",
       "      <td>male</td>\n",
       "      <td>22</td>\n",
       "      <td>1</td>\n",
       "      <td>0</td>\n",
       "      <td>A/5 21171</td>\n",
       "      <td>7.2500</td>\n",
       "      <td>NaN</td>\n",
       "      <td>S</td>\n",
       "    </tr>\n",
       "    <tr>\n",
       "      <th>1</th>\n",
       "      <td>2</td>\n",
       "      <td>1</td>\n",
       "      <td>1</td>\n",
       "      <td>Cumings, Mrs. John Bradley (Florence Briggs Th...</td>\n",
       "      <td>female</td>\n",
       "      <td>38</td>\n",
       "      <td>1</td>\n",
       "      <td>0</td>\n",
       "      <td>PC 17599</td>\n",
       "      <td>71.2833</td>\n",
       "      <td>C85</td>\n",
       "      <td>C</td>\n",
       "    </tr>\n",
       "    <tr>\n",
       "      <th>2</th>\n",
       "      <td>3</td>\n",
       "      <td>1</td>\n",
       "      <td>3</td>\n",
       "      <td>Heikkinen, Miss. Laina</td>\n",
       "      <td>female</td>\n",
       "      <td>26</td>\n",
       "      <td>0</td>\n",
       "      <td>0</td>\n",
       "      <td>STON/O2. 3101282</td>\n",
       "      <td>7.9250</td>\n",
       "      <td>NaN</td>\n",
       "      <td>S</td>\n",
       "    </tr>\n",
       "    <tr>\n",
       "      <th>3</th>\n",
       "      <td>4</td>\n",
       "      <td>1</td>\n",
       "      <td>1</td>\n",
       "      <td>Futrelle, Mrs. Jacques Heath (Lily May Peel)</td>\n",
       "      <td>female</td>\n",
       "      <td>35</td>\n",
       "      <td>1</td>\n",
       "      <td>0</td>\n",
       "      <td>113803</td>\n",
       "      <td>53.1000</td>\n",
       "      <td>C123</td>\n",
       "      <td>S</td>\n",
       "    </tr>\n",
       "    <tr>\n",
       "      <th>4</th>\n",
       "      <td>5</td>\n",
       "      <td>0</td>\n",
       "      <td>3</td>\n",
       "      <td>Allen, Mr. William Henry</td>\n",
       "      <td>male</td>\n",
       "      <td>35</td>\n",
       "      <td>0</td>\n",
       "      <td>0</td>\n",
       "      <td>373450</td>\n",
       "      <td>8.0500</td>\n",
       "      <td>NaN</td>\n",
       "      <td>S</td>\n",
       "    </tr>\n",
       "  </tbody>\n",
       "</table>\n",
       "</div>"
      ],
      "text/plain": [
       "   PassengerId  Survived  Pclass  \\\n",
       "0            1         0       3   \n",
       "1            2         1       1   \n",
       "2            3         1       3   \n",
       "3            4         1       1   \n",
       "4            5         0       3   \n",
       "\n",
       "                                                Name  Gender Age  SibSp  \\\n",
       "0                            Braund, Mr. Owen Harris    male  22      1   \n",
       "1  Cumings, Mrs. John Bradley (Florence Briggs Th...  female  38      1   \n",
       "2                             Heikkinen, Miss. Laina  female  26      0   \n",
       "3       Futrelle, Mrs. Jacques Heath (Lily May Peel)  female  35      1   \n",
       "4                           Allen, Mr. William Henry    male  35      0   \n",
       "\n",
       "   Parch            Ticket     Fare Cabin Embarked  \n",
       "0      0         A/5 21171   7.2500   NaN        S  \n",
       "1      0          PC 17599  71.2833   C85        C  \n",
       "2      0  STON/O2. 3101282   7.9250   NaN        S  \n",
       "3      0            113803  53.1000  C123        S  \n",
       "4      0            373450   8.0500   NaN        S  "
      ]
     },
     "execution_count": 114,
     "metadata": {},
     "output_type": "execute_result"
    }
   ],
   "source": [
    "df.head()"
   ]
  },
  {
   "cell_type": "code",
   "execution_count": 115,
   "id": "992330ce",
   "metadata": {},
   "outputs": [
    {
     "data": {
      "text/html": [
       "<div>\n",
       "<style scoped>\n",
       "    .dataframe tbody tr th:only-of-type {\n",
       "        vertical-align: middle;\n",
       "    }\n",
       "\n",
       "    .dataframe tbody tr th {\n",
       "        vertical-align: top;\n",
       "    }\n",
       "\n",
       "    .dataframe thead th {\n",
       "        text-align: right;\n",
       "    }\n",
       "</style>\n",
       "<table border=\"1\" class=\"dataframe\">\n",
       "  <thead>\n",
       "    <tr style=\"text-align: right;\">\n",
       "      <th></th>\n",
       "      <th>Column</th>\n",
       "      <th>Datatype</th>\n",
       "      <th>Unique Values</th>\n",
       "      <th>Missing Values</th>\n",
       "    </tr>\n",
       "  </thead>\n",
       "  <tbody>\n",
       "    <tr>\n",
       "      <th>0</th>\n",
       "      <td>PassengerId</td>\n",
       "      <td>int64</td>\n",
       "      <td>891</td>\n",
       "      <td>0</td>\n",
       "    </tr>\n",
       "    <tr>\n",
       "      <th>1</th>\n",
       "      <td>Survived</td>\n",
       "      <td>int64</td>\n",
       "      <td>2</td>\n",
       "      <td>0</td>\n",
       "    </tr>\n",
       "    <tr>\n",
       "      <th>2</th>\n",
       "      <td>Pclass</td>\n",
       "      <td>int64</td>\n",
       "      <td>3</td>\n",
       "      <td>0</td>\n",
       "    </tr>\n",
       "    <tr>\n",
       "      <th>3</th>\n",
       "      <td>Name</td>\n",
       "      <td>object</td>\n",
       "      <td>891</td>\n",
       "      <td>0</td>\n",
       "    </tr>\n",
       "    <tr>\n",
       "      <th>4</th>\n",
       "      <td>Gender</td>\n",
       "      <td>object</td>\n",
       "      <td>2</td>\n",
       "      <td>0</td>\n",
       "    </tr>\n",
       "    <tr>\n",
       "      <th>5</th>\n",
       "      <td>Age</td>\n",
       "      <td>object</td>\n",
       "      <td>88</td>\n",
       "      <td>177</td>\n",
       "    </tr>\n",
       "    <tr>\n",
       "      <th>6</th>\n",
       "      <td>SibSp</td>\n",
       "      <td>int64</td>\n",
       "      <td>7</td>\n",
       "      <td>0</td>\n",
       "    </tr>\n",
       "    <tr>\n",
       "      <th>7</th>\n",
       "      <td>Parch</td>\n",
       "      <td>int64</td>\n",
       "      <td>7</td>\n",
       "      <td>0</td>\n",
       "    </tr>\n",
       "    <tr>\n",
       "      <th>8</th>\n",
       "      <td>Ticket</td>\n",
       "      <td>object</td>\n",
       "      <td>681</td>\n",
       "      <td>0</td>\n",
       "    </tr>\n",
       "    <tr>\n",
       "      <th>9</th>\n",
       "      <td>Fare</td>\n",
       "      <td>float64</td>\n",
       "      <td>248</td>\n",
       "      <td>0</td>\n",
       "    </tr>\n",
       "    <tr>\n",
       "      <th>10</th>\n",
       "      <td>Cabin</td>\n",
       "      <td>object</td>\n",
       "      <td>147</td>\n",
       "      <td>687</td>\n",
       "    </tr>\n",
       "    <tr>\n",
       "      <th>11</th>\n",
       "      <td>Embarked</td>\n",
       "      <td>object</td>\n",
       "      <td>3</td>\n",
       "      <td>2</td>\n",
       "    </tr>\n",
       "  </tbody>\n",
       "</table>\n",
       "</div>"
      ],
      "text/plain": [
       "         Column Datatype  Unique Values  Missing Values\n",
       "0   PassengerId    int64            891               0\n",
       "1      Survived    int64              2               0\n",
       "2        Pclass    int64              3               0\n",
       "3          Name   object            891               0\n",
       "4        Gender   object              2               0\n",
       "5           Age   object             88             177\n",
       "6         SibSp    int64              7               0\n",
       "7         Parch    int64              7               0\n",
       "8        Ticket   object            681               0\n",
       "9          Fare  float64            248               0\n",
       "10        Cabin   object            147             687\n",
       "11     Embarked   object              3               2"
      ]
     },
     "execution_count": 115,
     "metadata": {},
     "output_type": "execute_result"
    }
   ],
   "source": [
    "# Checking for datatype,missing values and unique values in a columns\n",
    "\n",
    "lst=[]\n",
    "for i in df.columns:\n",
    "    a=i\n",
    "    b=df[i].dtype\n",
    "    c=df[i].nunique()\n",
    "    d=df[i].isna().sum()\n",
    "    \n",
    "    lst.append([a,b,c,d])\n",
    "    \n",
    "df1=pd.DataFrame(lst,columns=[\"Column\",\"Datatype\",\"Unique Values\",\"Missing Values\"])\n",
    "df1\n"
   ]
  },
  {
   "cell_type": "markdown",
   "id": "f56b0cf9",
   "metadata": {},
   "source": [
    "- PassengerID and Name having all unique values.\n",
    "- Ticket column also having large no. of unique values.\n",
    "- Cabin having large no. of missing values.\n",
    "- So, we can drop these columns."
   ]
  },
  {
   "cell_type": "code",
   "execution_count": 116,
   "id": "c029ed1f",
   "metadata": {},
   "outputs": [],
   "source": [
    "df.drop([\"PassengerId\",\"Name\",\"Ticket\",\"Cabin\"],axis=1,inplace=True)"
   ]
  },
  {
   "cell_type": "code",
   "execution_count": 117,
   "id": "40626e6a",
   "metadata": {},
   "outputs": [
    {
     "data": {
      "text/html": [
       "<div>\n",
       "<style scoped>\n",
       "    .dataframe tbody tr th:only-of-type {\n",
       "        vertical-align: middle;\n",
       "    }\n",
       "\n",
       "    .dataframe tbody tr th {\n",
       "        vertical-align: top;\n",
       "    }\n",
       "\n",
       "    .dataframe thead th {\n",
       "        text-align: right;\n",
       "    }\n",
       "</style>\n",
       "<table border=\"1\" class=\"dataframe\">\n",
       "  <thead>\n",
       "    <tr style=\"text-align: right;\">\n",
       "      <th></th>\n",
       "      <th>Survived</th>\n",
       "      <th>Pclass</th>\n",
       "      <th>Gender</th>\n",
       "      <th>Age</th>\n",
       "      <th>SibSp</th>\n",
       "      <th>Parch</th>\n",
       "      <th>Fare</th>\n",
       "      <th>Embarked</th>\n",
       "    </tr>\n",
       "  </thead>\n",
       "  <tbody>\n",
       "    <tr>\n",
       "      <th>0</th>\n",
       "      <td>0</td>\n",
       "      <td>3</td>\n",
       "      <td>male</td>\n",
       "      <td>22</td>\n",
       "      <td>1</td>\n",
       "      <td>0</td>\n",
       "      <td>7.2500</td>\n",
       "      <td>S</td>\n",
       "    </tr>\n",
       "    <tr>\n",
       "      <th>1</th>\n",
       "      <td>1</td>\n",
       "      <td>1</td>\n",
       "      <td>female</td>\n",
       "      <td>38</td>\n",
       "      <td>1</td>\n",
       "      <td>0</td>\n",
       "      <td>71.2833</td>\n",
       "      <td>C</td>\n",
       "    </tr>\n",
       "    <tr>\n",
       "      <th>2</th>\n",
       "      <td>1</td>\n",
       "      <td>3</td>\n",
       "      <td>female</td>\n",
       "      <td>26</td>\n",
       "      <td>0</td>\n",
       "      <td>0</td>\n",
       "      <td>7.9250</td>\n",
       "      <td>S</td>\n",
       "    </tr>\n",
       "    <tr>\n",
       "      <th>3</th>\n",
       "      <td>1</td>\n",
       "      <td>1</td>\n",
       "      <td>female</td>\n",
       "      <td>35</td>\n",
       "      <td>1</td>\n",
       "      <td>0</td>\n",
       "      <td>53.1000</td>\n",
       "      <td>S</td>\n",
       "    </tr>\n",
       "    <tr>\n",
       "      <th>4</th>\n",
       "      <td>0</td>\n",
       "      <td>3</td>\n",
       "      <td>male</td>\n",
       "      <td>35</td>\n",
       "      <td>0</td>\n",
       "      <td>0</td>\n",
       "      <td>8.0500</td>\n",
       "      <td>S</td>\n",
       "    </tr>\n",
       "  </tbody>\n",
       "</table>\n",
       "</div>"
      ],
      "text/plain": [
       "   Survived  Pclass  Gender Age  SibSp  Parch     Fare Embarked\n",
       "0         0       3    male  22      1      0   7.2500        S\n",
       "1         1       1  female  38      1      0  71.2833        C\n",
       "2         1       3  female  26      0      0   7.9250        S\n",
       "3         1       1  female  35      1      0  53.1000        S\n",
       "4         0       3    male  35      0      0   8.0500        S"
      ]
     },
     "execution_count": 117,
     "metadata": {},
     "output_type": "execute_result"
    }
   ],
   "source": [
    "df.head()"
   ]
  },
  {
   "cell_type": "markdown",
   "id": "12ae8788",
   "metadata": {},
   "source": [
    " - We have to convert all categorical columns into numerical columns"
   ]
  },
  {
   "cell_type": "code",
   "execution_count": 118,
   "id": "2d7728e5",
   "metadata": {},
   "outputs": [
    {
     "data": {
      "text/plain": [
       "{'male': 577, 'female': 314}"
      ]
     },
     "execution_count": 118,
     "metadata": {},
     "output_type": "execute_result"
    }
   ],
   "source": [
    "# For Gender Column\n",
    "\n",
    "df[\"Gender\"].value_counts().to_dict()"
   ]
  },
  {
   "cell_type": "code",
   "execution_count": 119,
   "id": "165379fd",
   "metadata": {},
   "outputs": [],
   "source": [
    "df[\"Gender\"].replace({'male': 0, 'female': 1},inplace=True)    # Label Encoding"
   ]
  },
  {
   "cell_type": "code",
   "execution_count": 120,
   "id": "d2a5fb9e",
   "metadata": {},
   "outputs": [],
   "source": [
    "gender_values={'male': 0, 'female': 1}    # This will required while testing user inputs."
   ]
  },
  {
   "cell_type": "code",
   "execution_count": 121,
   "id": "3827ebed",
   "metadata": {},
   "outputs": [
    {
     "data": {
      "text/plain": [
       "{'S': 644, 'C': 168, 'Q': 77}"
      ]
     },
     "execution_count": 121,
     "metadata": {},
     "output_type": "execute_result"
    }
   ],
   "source": [
    "#  For Embarked Column\n",
    "\n",
    "df[\"Embarked\"].value_counts().to_dict()"
   ]
  },
  {
   "cell_type": "code",
   "execution_count": 122,
   "id": "7bd92ca5",
   "metadata": {},
   "outputs": [],
   "source": [
    "df[\"Embarked\"].replace({'S': 0, 'C': 1, 'Q': 2},inplace=True)    # Label Encoding"
   ]
  },
  {
   "cell_type": "code",
   "execution_count": 123,
   "id": "775f17a8",
   "metadata": {},
   "outputs": [],
   "source": [
    "Embarked_values={'S': 0, 'C': 1, 'Q': 2}     # This will required while testing user inputs."
   ]
  },
  {
   "cell_type": "markdown",
   "id": "a4fa00b2",
   "metadata": {},
   "source": [
    "- We have to check for missing values also"
   ]
  },
  {
   "cell_type": "code",
   "execution_count": 124,
   "id": "1e3a3fa8",
   "metadata": {},
   "outputs": [
    {
     "name": "stdout",
     "output_type": "stream",
     "text": [
      "Survived---> 0\n",
      "Pclass---> 0\n",
      "Gender---> 0\n",
      "Age---> 177\n",
      "SibSp---> 0\n",
      "Parch---> 0\n",
      "Fare---> 0\n",
      "Embarked---> 2\n"
     ]
    }
   ],
   "source": [
    "for i in df.columns:\n",
    "    a=df[i].isna().sum()\n",
    "    print(f\"{i}--->\",a)"
   ]
  },
  {
   "cell_type": "code",
   "execution_count": 125,
   "id": "a86d8141",
   "metadata": {},
   "outputs": [
    {
     "data": {
      "text/html": [
       "<div>\n",
       "<style scoped>\n",
       "    .dataframe tbody tr th:only-of-type {\n",
       "        vertical-align: middle;\n",
       "    }\n",
       "\n",
       "    .dataframe tbody tr th {\n",
       "        vertical-align: top;\n",
       "    }\n",
       "\n",
       "    .dataframe thead th {\n",
       "        text-align: right;\n",
       "    }\n",
       "</style>\n",
       "<table border=\"1\" class=\"dataframe\">\n",
       "  <thead>\n",
       "    <tr style=\"text-align: right;\">\n",
       "      <th></th>\n",
       "      <th>Survived</th>\n",
       "      <th>Pclass</th>\n",
       "      <th>Gender</th>\n",
       "      <th>Age</th>\n",
       "      <th>SibSp</th>\n",
       "      <th>Parch</th>\n",
       "      <th>Fare</th>\n",
       "      <th>Embarked</th>\n",
       "    </tr>\n",
       "  </thead>\n",
       "  <tbody>\n",
       "    <tr>\n",
       "      <th>0</th>\n",
       "      <td>0.0</td>\n",
       "      <td>3.0</td>\n",
       "      <td>0.0</td>\n",
       "      <td>22.0</td>\n",
       "      <td>1.0</td>\n",
       "      <td>0.0</td>\n",
       "      <td>7.2500</td>\n",
       "      <td>0.0</td>\n",
       "    </tr>\n",
       "    <tr>\n",
       "      <th>1</th>\n",
       "      <td>1.0</td>\n",
       "      <td>1.0</td>\n",
       "      <td>1.0</td>\n",
       "      <td>38.0</td>\n",
       "      <td>1.0</td>\n",
       "      <td>0.0</td>\n",
       "      <td>71.2833</td>\n",
       "      <td>1.0</td>\n",
       "    </tr>\n",
       "    <tr>\n",
       "      <th>2</th>\n",
       "      <td>1.0</td>\n",
       "      <td>3.0</td>\n",
       "      <td>1.0</td>\n",
       "      <td>26.0</td>\n",
       "      <td>0.0</td>\n",
       "      <td>0.0</td>\n",
       "      <td>7.9250</td>\n",
       "      <td>0.0</td>\n",
       "    </tr>\n",
       "    <tr>\n",
       "      <th>3</th>\n",
       "      <td>1.0</td>\n",
       "      <td>1.0</td>\n",
       "      <td>1.0</td>\n",
       "      <td>35.0</td>\n",
       "      <td>1.0</td>\n",
       "      <td>0.0</td>\n",
       "      <td>53.1000</td>\n",
       "      <td>0.0</td>\n",
       "    </tr>\n",
       "    <tr>\n",
       "      <th>4</th>\n",
       "      <td>0.0</td>\n",
       "      <td>3.0</td>\n",
       "      <td>0.0</td>\n",
       "      <td>35.0</td>\n",
       "      <td>0.0</td>\n",
       "      <td>0.0</td>\n",
       "      <td>8.0500</td>\n",
       "      <td>0.0</td>\n",
       "    </tr>\n",
       "  </tbody>\n",
       "</table>\n",
       "</div>"
      ],
      "text/plain": [
       "   Survived  Pclass  Gender   Age  SibSp  Parch     Fare  Embarked\n",
       "0       0.0     3.0     0.0  22.0    1.0    0.0   7.2500       0.0\n",
       "1       1.0     1.0     1.0  38.0    1.0    0.0  71.2833       1.0\n",
       "2       1.0     3.0     1.0  26.0    0.0    0.0   7.9250       0.0\n",
       "3       1.0     1.0     1.0  35.0    1.0    0.0  53.1000       0.0\n",
       "4       0.0     3.0     0.0  35.0    0.0    0.0   8.0500       0.0"
      ]
     },
     "execution_count": 125,
     "metadata": {},
     "output_type": "execute_result"
    }
   ],
   "source": [
    "# Knn imputer to impute missing values.\n",
    "\n",
    "knn_impute=KNNImputer(n_neighbors=3)\n",
    "\n",
    "array=knn_impute.fit_transform(df)\n",
    "\n",
    "df=pd.DataFrame(array,columns=df.columns)\n",
    "df.head()"
   ]
  },
  {
   "cell_type": "code",
   "execution_count": 126,
   "id": "77d98318",
   "metadata": {},
   "outputs": [
    {
     "name": "stdout",
     "output_type": "stream",
     "text": [
      "Survived---> 0\n",
      "Pclass---> 0\n",
      "Gender---> 0\n",
      "Age---> 0\n",
      "SibSp---> 0\n",
      "Parch---> 0\n",
      "Fare---> 0\n",
      "Embarked---> 0\n"
     ]
    }
   ],
   "source": [
    "for i in df.columns:\n",
    "    a=df[i].isna().sum()\n",
    "    print(f\"{i}--->\",a)"
   ]
  },
  {
   "cell_type": "markdown",
   "id": "5e672574",
   "metadata": {},
   "source": [
    "## Feature Engineering"
   ]
  },
  {
   "cell_type": "code",
   "execution_count": 127,
   "id": "53ec29b6",
   "metadata": {},
   "outputs": [],
   "source": [
    "x=df.drop(\"Survived\",axis=1)\n",
    "y=df[\"Survived\"]"
   ]
  },
  {
   "cell_type": "code",
   "execution_count": 128,
   "id": "d872ff5c",
   "metadata": {},
   "outputs": [
    {
     "name": "stdout",
     "output_type": "stream",
     "text": [
      "{0.0: 547, 1.0: 344}\n"
     ]
    },
    {
     "data": {
      "text/plain": [
       "<AxesSubplot:xlabel='Survived', ylabel='count'>"
      ]
     },
     "execution_count": 128,
     "metadata": {},
     "output_type": "execute_result"
    },
    {
     "data": {
      "image/png": "[encoded data removed]",
      "text/plain": [
       "<Figure size 432x288 with 1 Axes>"
      ]
     },
     "metadata": {
      "needs_background": "light"
     },
     "output_type": "display_data"
    }
   ],
   "source": [
    "print(y.value_counts().to_dict())\n",
    "sns.countplot(y)"
   ]
  },
  {
   "cell_type": "markdown",
   "id": "735622fe",
   "metadata": {},
   "source": [
    "- Data is not that much but somehow balanced"
   ]
  },
  {
   "cell_type": "markdown",
   "id": "b6c31bda",
   "metadata": {},
   "source": [
    "###### Outliers Handling"
   ]
  },
  {
   "cell_type": "markdown",
   "id": "07bc44d2",
   "metadata": {},
   "source": [
    "-  Age"
   ]
  },
  {
   "cell_type": "code",
   "execution_count": 129,
   "id": "2cf103c1",
   "metadata": {},
   "outputs": [
    {
     "data": {
      "text/plain": [
       "<AxesSubplot:xlabel='Age'>"
      ]
     },
     "execution_count": 129,
     "metadata": {},
     "output_type": "execute_result"
    },
    {
     "data": {
      "image/png": "[encoded data removed]",
      "text/plain": [
       "<Figure size 432x288 with 1 Axes>"
      ]
     },
     "metadata": {
      "needs_background": "light"
     },
     "output_type": "display_data"
    }
   ],
   "source": [
    "sns.boxplot(df[\"Age\"])"
   ]
  },
  {
   "cell_type": "markdown",
   "id": "f1212264",
   "metadata": {},
   "source": [
    "-  Fare"
   ]
  },
  {
   "cell_type": "code",
   "execution_count": 130,
   "id": "ea5fc594",
   "metadata": {},
   "outputs": [
    {
     "data": {
      "text/plain": [
       "<AxesSubplot:xlabel='Fare'>"
      ]
     },
     "execution_count": 130,
     "metadata": {},
     "output_type": "execute_result"
    },
    {
     "data": {
      "image/png": "[encoded data removed]",
      "text/plain": [
       "<Figure size 432x288 with 1 Axes>"
      ]
     },
     "metadata": {
      "needs_background": "light"
     },
     "output_type": "display_data"
    }
   ],
   "source": [
    "sns.boxplot(df[\"Fare\"])"
   ]
  },
  {
   "cell_type": "code",
   "execution_count": 131,
   "id": "af119003",
   "metadata": {},
   "outputs": [
    {
     "data": {
      "text/plain": [
       "65.6344"
      ]
     },
     "execution_count": 131,
     "metadata": {},
     "output_type": "execute_result"
    }
   ],
   "source": [
    "q1=df[\"Fare\"].quantile(0.25)\n",
    "q2=df[\"Fare\"].quantile(0.5)\n",
    "q3=df[\"Fare\"].quantile(0.75)\n",
    "\n",
    "iqr=q3-q1\n",
    "\n",
    "upper_limit= q3+(1.5*iqr)\n",
    "lower_limit= q1-(1.5*iqr)\n",
    "upper_limit"
   ]
  },
  {
   "cell_type": "code",
   "execution_count": 132,
   "id": "5d9a6eda",
   "metadata": {},
   "outputs": [],
   "source": [
    "df[\"Fare\"]=np.where(df[\"Fare\"]>upper_limit,np.nan,df[\"Fare\"])"
   ]
  },
  {
   "cell_type": "code",
   "execution_count": 133,
   "id": "b271a86e",
   "metadata": {},
   "outputs": [],
   "source": [
    "array=knn_impute.fit_transform(df[[\"Fare\"]])\n",
    "\n",
    "df[\"Fare\"]=pd.DataFrame(array,columns=[\"Fare\"])"
   ]
  },
  {
   "cell_type": "markdown",
   "id": "65f2c5d0",
   "metadata": {},
   "source": [
    "###### Features Scaling"
   ]
  },
  {
   "cell_type": "markdown",
   "id": "2d0e1645",
   "metadata": {},
   "source": [
    "- Normalization"
   ]
  },
  {
   "cell_type": "code",
   "execution_count": 134,
   "id": "415fbf25",
   "metadata": {},
   "outputs": [
    {
     "data": {
      "text/html": [
       "<div>\n",
       "<style scoped>\n",
       "    .dataframe tbody tr th:only-of-type {\n",
       "        vertical-align: middle;\n",
       "    }\n",
       "\n",
       "    .dataframe tbody tr th {\n",
       "        vertical-align: top;\n",
       "    }\n",
       "\n",
       "    .dataframe thead th {\n",
       "        text-align: right;\n",
       "    }\n",
       "</style>\n",
       "<table border=\"1\" class=\"dataframe\">\n",
       "  <thead>\n",
       "    <tr style=\"text-align: right;\">\n",
       "      <th></th>\n",
       "      <th>Pclass</th>\n",
       "      <th>Gender</th>\n",
       "      <th>Age</th>\n",
       "      <th>SibSp</th>\n",
       "      <th>Parch</th>\n",
       "      <th>Fare</th>\n",
       "      <th>Embarked</th>\n",
       "    </tr>\n",
       "  </thead>\n",
       "  <tbody>\n",
       "    <tr>\n",
       "      <th>0</th>\n",
       "      <td>1.0</td>\n",
       "      <td>0.0</td>\n",
       "      <td>0.271174</td>\n",
       "      <td>0.125</td>\n",
       "      <td>0.0</td>\n",
       "      <td>0.014151</td>\n",
       "      <td>0.0</td>\n",
       "    </tr>\n",
       "    <tr>\n",
       "      <th>1</th>\n",
       "      <td>0.0</td>\n",
       "      <td>1.0</td>\n",
       "      <td>0.472229</td>\n",
       "      <td>0.125</td>\n",
       "      <td>0.0</td>\n",
       "      <td>0.139136</td>\n",
       "      <td>0.5</td>\n",
       "    </tr>\n",
       "    <tr>\n",
       "      <th>2</th>\n",
       "      <td>1.0</td>\n",
       "      <td>1.0</td>\n",
       "      <td>0.321438</td>\n",
       "      <td>0.000</td>\n",
       "      <td>0.0</td>\n",
       "      <td>0.015469</td>\n",
       "      <td>0.0</td>\n",
       "    </tr>\n",
       "    <tr>\n",
       "      <th>3</th>\n",
       "      <td>0.0</td>\n",
       "      <td>1.0</td>\n",
       "      <td>0.434531</td>\n",
       "      <td>0.125</td>\n",
       "      <td>0.0</td>\n",
       "      <td>0.103644</td>\n",
       "      <td>0.0</td>\n",
       "    </tr>\n",
       "    <tr>\n",
       "      <th>4</th>\n",
       "      <td>1.0</td>\n",
       "      <td>0.0</td>\n",
       "      <td>0.434531</td>\n",
       "      <td>0.000</td>\n",
       "      <td>0.0</td>\n",
       "      <td>0.015713</td>\n",
       "      <td>0.0</td>\n",
       "    </tr>\n",
       "  </tbody>\n",
       "</table>\n",
       "</div>"
      ],
      "text/plain": [
       "   Pclass  Gender       Age  SibSp  Parch      Fare  Embarked\n",
       "0     1.0     0.0  0.271174  0.125    0.0  0.014151       0.0\n",
       "1     0.0     1.0  0.472229  0.125    0.0  0.139136       0.5\n",
       "2     1.0     1.0  0.321438  0.000    0.0  0.015469       0.0\n",
       "3     0.0     1.0  0.434531  0.125    0.0  0.103644       0.0\n",
       "4     1.0     0.0  0.434531  0.000    0.0  0.015713       0.0"
      ]
     },
     "execution_count": 134,
     "metadata": {},
     "output_type": "execute_result"
    }
   ],
   "source": [
    "normal=MinMaxScaler()\n",
    "\n",
    "arr1=normal.fit_transform(x)\n",
    "x_normal=pd.DataFrame(arr1,columns=x.columns)\n",
    "x_normal.head()"
   ]
  },
  {
   "cell_type": "markdown",
   "id": "8108786d",
   "metadata": {},
   "source": [
    "- Standardization"
   ]
  },
  {
   "cell_type": "code",
   "execution_count": 135,
   "id": "a1d2af01",
   "metadata": {},
   "outputs": [
    {
     "data": {
      "text/html": [
       "<div>\n",
       "<style scoped>\n",
       "    .dataframe tbody tr th:only-of-type {\n",
       "        vertical-align: middle;\n",
       "    }\n",
       "\n",
       "    .dataframe tbody tr th {\n",
       "        vertical-align: top;\n",
       "    }\n",
       "\n",
       "    .dataframe thead th {\n",
       "        text-align: right;\n",
       "    }\n",
       "</style>\n",
       "<table border=\"1\" class=\"dataframe\">\n",
       "  <thead>\n",
       "    <tr style=\"text-align: right;\">\n",
       "      <th></th>\n",
       "      <th>Pclass</th>\n",
       "      <th>Gender</th>\n",
       "      <th>Age</th>\n",
       "      <th>SibSp</th>\n",
       "      <th>Parch</th>\n",
       "      <th>Fare</th>\n",
       "      <th>Embarked</th>\n",
       "    </tr>\n",
       "  </thead>\n",
       "  <tbody>\n",
       "    <tr>\n",
       "      <th>0</th>\n",
       "      <td>0.827377</td>\n",
       "      <td>-0.737695</td>\n",
       "      <td>-0.589335</td>\n",
       "      <td>0.432793</td>\n",
       "      <td>-0.473674</td>\n",
       "      <td>-0.502445</td>\n",
       "      <td>-0.571254</td>\n",
       "    </tr>\n",
       "    <tr>\n",
       "      <th>1</th>\n",
       "      <td>-1.566107</td>\n",
       "      <td>1.355574</td>\n",
       "      <td>0.555738</td>\n",
       "      <td>0.432793</td>\n",
       "      <td>-0.473674</td>\n",
       "      <td>0.786845</td>\n",
       "      <td>1.002933</td>\n",
       "    </tr>\n",
       "    <tr>\n",
       "      <th>2</th>\n",
       "      <td>0.827377</td>\n",
       "      <td>1.355574</td>\n",
       "      <td>-0.303067</td>\n",
       "      <td>-0.474545</td>\n",
       "      <td>-0.473674</td>\n",
       "      <td>-0.488854</td>\n",
       "      <td>-0.571254</td>\n",
       "    </tr>\n",
       "    <tr>\n",
       "      <th>3</th>\n",
       "      <td>-1.566107</td>\n",
       "      <td>1.355574</td>\n",
       "      <td>0.341036</td>\n",
       "      <td>0.432793</td>\n",
       "      <td>-0.473674</td>\n",
       "      <td>0.420730</td>\n",
       "      <td>-0.571254</td>\n",
       "    </tr>\n",
       "    <tr>\n",
       "      <th>4</th>\n",
       "      <td>0.827377</td>\n",
       "      <td>-0.737695</td>\n",
       "      <td>0.341036</td>\n",
       "      <td>-0.474545</td>\n",
       "      <td>-0.473674</td>\n",
       "      <td>-0.486337</td>\n",
       "      <td>-0.571254</td>\n",
       "    </tr>\n",
       "  </tbody>\n",
       "</table>\n",
       "</div>"
      ],
      "text/plain": [
       "     Pclass    Gender       Age     SibSp     Parch      Fare  Embarked\n",
       "0  0.827377 -0.737695 -0.589335  0.432793 -0.473674 -0.502445 -0.571254\n",
       "1 -1.566107  1.355574  0.555738  0.432793 -0.473674  0.786845  1.002933\n",
       "2  0.827377  1.355574 -0.303067 -0.474545 -0.473674 -0.488854 -0.571254\n",
       "3 -1.566107  1.355574  0.341036  0.432793 -0.473674  0.420730 -0.571254\n",
       "4  0.827377 -0.737695  0.341036 -0.474545 -0.473674 -0.486337 -0.571254"
      ]
     },
     "execution_count": 135,
     "metadata": {},
     "output_type": "execute_result"
    }
   ],
   "source": [
    "std=StandardScaler()\n",
    "\n",
    "arr2=std.fit_transform(x)\n",
    "\n",
    "x_std=pd.DataFrame(arr2,columns=x.columns)\n",
    "x_std.head()"
   ]
  },
  {
   "cell_type": "markdown",
   "id": "e6a423d0",
   "metadata": {},
   "source": [
    "## Train-Test Split"
   ]
  },
  {
   "cell_type": "code",
   "execution_count": 136,
   "id": "b588e7e4",
   "metadata": {},
   "outputs": [],
   "source": [
    "x_train,x_test,y_train,y_test=train_test_split(x,y,train_size=0.70,random_state=1,stratify=y)"
   ]
  },
  {
   "cell_type": "code",
   "execution_count": 137,
   "id": "ca36845f",
   "metadata": {},
   "outputs": [],
   "source": [
    "x_normal_train,x_normal_test,y_normal_train,y_normal_test=train_test_split(x_normal,y,train_size=0.70,random_state=1,stratify=y)"
   ]
  },
  {
   "cell_type": "code",
   "execution_count": 138,
   "id": "ca65c59f",
   "metadata": {},
   "outputs": [],
   "source": [
    "x_std_train,x_std_test,y_std_train,y_std_test=train_test_split(x_std,y,train_size=0.70,random_state=1,stratify=y)"
   ]
  },
  {
   "cell_type": "markdown",
   "id": "e90b70ca",
   "metadata": {},
   "source": [
    "## Model Training"
   ]
  },
  {
   "cell_type": "code",
   "execution_count": 139,
   "id": "0bc6b892",
   "metadata": {},
   "outputs": [],
   "source": [
    "lr=LogisticRegression()\n",
    "knn=KNeighborsClassifier()\n",
    "dt=DecisionTreeClassifier(random_state=1)\n",
    "rf=RandomForestClassifier(random_state=1)\n",
    "adb=AdaBoostClassifier(random_state=1)"
   ]
  },
  {
   "cell_type": "code",
   "execution_count": 140,
   "id": "bd286025",
   "metadata": {},
   "outputs": [],
   "source": [
    "class Model():\n",
    "    \n",
    "    def __init__(self,model,x_train,x_test,y_train,y_test):\n",
    "        \n",
    "        self.model=model\n",
    "        self.x_train=x_train\n",
    "        self.x_test=x_test\n",
    "        self.y_train=y_train\n",
    "        self.y_test=y_test\n",
    "        \n",
    "        print(\"=\"*120)\n",
    "        print(f\"  #################################   {a}   ############################\")\n",
    "        print(\"=\"*120,\"\\n\\n\")\n",
    "        \n",
    "    def model_training(self):\n",
    "        model.append(a)\n",
    "        self.model.fit(self.x_train,self.y_train)\n",
    "        \n",
    "    def hyperparamter_tunning(self,hyperparameter):\n",
    "        \n",
    "        rscv=RandomizedSearchCV(self.model,hyperparameter,cv=5)\n",
    "        rscv.fit(self.x_train,self.y_train)\n",
    "        \n",
    "        self.model=rscv.best_estimator_\n",
    "        self.model.fit(self.x_train,self.y_train)\n",
    "        \n",
    "        self.model_evaluation()\n",
    "        \n",
    "        return self.model\n",
    "    \n",
    "    def model_evaluation(self):\n",
    "        \n",
    "        print(\"****************************  Evaluation of Testing Data  ***************************\")\n",
    "        print()\n",
    "        y_pred_test=self.model.predict(self.x_test)\n",
    "\n",
    "        cnf_matrics=confusion_matrix(self.y_test,y_pred_test)\n",
    "        print(\"Confusion Matrics is---->\\n\",cnf_matrics)\n",
    "        print(\"=\"*50)\n",
    "\n",
    "        accuracy=accuracy_score(self.y_test,y_pred_test)\n",
    "        print(\"The accuarcy score is---->\",accuracy)\n",
    "        Testing_acc.append(accuracy)\n",
    "        print(\"=\"*50)\n",
    "\n",
    "\n",
    "        clf_report=classification_report(self.y_test,y_pred_test)\n",
    "        print(\" The classification report is---->\\n\",\"\\n\",clf_report)\n",
    "        print(\"=\"*50)\n",
    "        \n",
    "        print()\n",
    "        print(\"****************************  Evaluation of Training Data  ***************************\")\n",
    "        print()\n",
    "        y_pred_train=self.model.predict(self.x_train)\n",
    "\n",
    "        cnf_matrics=confusion_matrix(self.y_train,y_pred_train)\n",
    "        print(\"Confusion Matrics is---->\\n\",cnf_matrics)\n",
    "        print(\"=\"*50)\n",
    "\n",
    "        accuracy=accuracy_score(self.y_train,y_pred_train)\n",
    "        print(\"The accuarcy score is---->\",accuracy)\n",
    "        Training_acc.append(accuracy)\n",
    "        print(\"=\"*50)\n",
    "\n",
    "\n",
    "        clf_report=classification_report(self.y_train,y_pred_train)\n",
    "        print(\" The classification report is---->\\n\",\"\\n\",clf_report)\n",
    "        print(\"=\"*50)\n",
    "        \n",
    "        \n",
    "    def Visualize_confusion_matrics(self):\n",
    "        print()\n",
    "        print(\"********************* Visualization of confusion Matrics ****************************\")\n",
    "        print()\n",
    "        plot_confusion_matrix(self.model,self.x_train,self.y_train)\n",
    "        "
   ]
  },
  {
   "cell_type": "code",
   "execution_count": 141,
   "id": "3790a71a",
   "metadata": {},
   "outputs": [
    {
     "name": "stdout",
     "output_type": "stream",
     "text": [
      "========================================================================================================================\n",
      "  #################################   Logistics Regression   ############################\n",
      "======================================================================================================================== \n",
      "\n",
      "\n",
      "****************************  Evaluation of Testing Data  ***************************\n",
      "\n",
      "Confusion Matrics is---->\n",
      " [[141  24]\n",
      " [ 27  76]]\n",
      "==================================================\n",
      "The accuarcy score is----> 0.8097014925373134\n",
      "==================================================\n",
      " The classification report is---->\n",
      " \n",
      "               precision    recall  f1-score   support\n",
      "\n",
      "         0.0       0.84      0.85      0.85       165\n",
      "         1.0       0.76      0.74      0.75       103\n",
      "\n",
      "    accuracy                           0.81       268\n",
      "   macro avg       0.80      0.80      0.80       268\n",
      "weighted avg       0.81      0.81      0.81       268\n",
      "\n",
      "==================================================\n",
      "\n",
      "****************************  Evaluation of Training Data  ***************************\n",
      "\n",
      "Confusion Matrics is---->\n",
      " [[334  48]\n",
      " [ 75 166]]\n",
      "==================================================\n",
      "The accuarcy score is----> 0.8025682182985554\n",
      "==================================================\n",
      " The classification report is---->\n",
      " \n",
      "               precision    recall  f1-score   support\n",
      "\n",
      "         0.0       0.82      0.87      0.84       382\n",
      "         1.0       0.78      0.69      0.73       241\n",
      "\n",
      "    accuracy                           0.80       623\n",
      "   macro avg       0.80      0.78      0.79       623\n",
      "weighted avg       0.80      0.80      0.80       623\n",
      "\n",
      "==================================================\n",
      "\n",
      "********************* Visualization of confusion Matrics ****************************\n",
      "\n"
     ]
    },
    {
     "data": {
      "image/png": "[encoded data removed]",
      "text/plain": [
       "<Figure size 432x288 with 2 Axes>"
      ]
     },
     "metadata": {
      "needs_background": "light"
     },
     "output_type": "display_data"
    }
   ],
   "source": [
    "#####################################  Logistics Regression ################################################\n",
    "\n",
    "a=\"Logistics Regression\"\n",
    "obj=Model(lr,x_train,x_test,y_train,y_test)\n",
    "obj.model_training()\n",
    "obj.model_evaluation()\n",
    "obj.Visualize_confusion_matrics()"
   ]
  },
  {
   "cell_type": "code",
   "execution_count": 142,
   "id": "b774e580",
   "metadata": {},
   "outputs": [
    {
     "name": "stdout",
     "output_type": "stream",
     "text": [
      "========================================================================================================================\n",
      "  #################################   KNN Classifier   ############################\n",
      "======================================================================================================================== \n",
      "\n",
      "\n",
      "****************************  Evaluation of Testing Data  ***************************\n",
      "\n",
      "Confusion Matrics is---->\n",
      " [[125  40]\n",
      " [ 50  53]]\n",
      "==================================================\n",
      "The accuarcy score is----> 0.664179104477612\n",
      "==================================================\n",
      " The classification report is---->\n",
      " \n",
      "               precision    recall  f1-score   support\n",
      "\n",
      "         0.0       0.71      0.76      0.74       165\n",
      "         1.0       0.57      0.51      0.54       103\n",
      "\n",
      "    accuracy                           0.66       268\n",
      "   macro avg       0.64      0.64      0.64       268\n",
      "weighted avg       0.66      0.66      0.66       268\n",
      "\n",
      "==================================================\n",
      "\n",
      "****************************  Evaluation of Training Data  ***************************\n",
      "\n",
      "Confusion Matrics is---->\n",
      " [[336  46]\n",
      " [ 68 173]]\n",
      "==================================================\n",
      "The accuarcy score is----> 0.8170144462279294\n",
      "==================================================\n",
      " The classification report is---->\n",
      " \n",
      "               precision    recall  f1-score   support\n",
      "\n",
      "         0.0       0.83      0.88      0.85       382\n",
      "         1.0       0.79      0.72      0.75       241\n",
      "\n",
      "    accuracy                           0.82       623\n",
      "   macro avg       0.81      0.80      0.80       623\n",
      "weighted avg       0.82      0.82      0.82       623\n",
      "\n",
      "==================================================\n",
      "\n",
      "********************* Visualization of confusion Matrics ****************************\n",
      "\n"
     ]
    },
    {
     "data": {
      "image/png": "[encoded data removed]",
      "text/plain": [
       "<Figure size 432x288 with 2 Axes>"
      ]
     },
     "metadata": {
      "needs_background": "light"
     },
     "output_type": "display_data"
    }
   ],
   "source": [
    "###################################### KNN Classifier #################################################\n",
    "\n",
    "a=\"KNN Classifier\"\n",
    "\n",
    "obj=Model(knn,x_train,x_test,y_train,y_test)\n",
    "obj.model_training()\n",
    "obj.model_evaluation()\n",
    "obj.Visualize_confusion_matrics()"
   ]
  },
  {
   "cell_type": "code",
   "execution_count": 143,
   "id": "462d81ce",
   "metadata": {},
   "outputs": [
    {
     "name": "stdout",
     "output_type": "stream",
     "text": [
      "========================================================================================================================\n",
      "  #################################   KNN classifer with Normalization   ############################\n",
      "======================================================================================================================== \n",
      "\n",
      "\n",
      "****************************  Evaluation of Testing Data  ***************************\n",
      "\n",
      "Confusion Matrics is---->\n",
      " [[143  22]\n",
      " [ 27  76]]\n",
      "==================================================\n",
      "The accuarcy score is----> 0.8171641791044776\n",
      "==================================================\n",
      " The classification report is---->\n",
      " \n",
      "               precision    recall  f1-score   support\n",
      "\n",
      "         0.0       0.84      0.87      0.85       165\n",
      "         1.0       0.78      0.74      0.76       103\n",
      "\n",
      "    accuracy                           0.82       268\n",
      "   macro avg       0.81      0.80      0.80       268\n",
      "weighted avg       0.82      0.82      0.82       268\n",
      "\n",
      "==================================================\n",
      "\n",
      "****************************  Evaluation of Training Data  ***************************\n",
      "\n",
      "Confusion Matrics is---->\n",
      " [[355  27]\n",
      " [ 60 181]]\n",
      "==================================================\n",
      "The accuarcy score is----> 0.8603531300160514\n",
      "==================================================\n",
      " The classification report is---->\n",
      " \n",
      "               precision    recall  f1-score   support\n",
      "\n",
      "         0.0       0.86      0.93      0.89       382\n",
      "         1.0       0.87      0.75      0.81       241\n",
      "\n",
      "    accuracy                           0.86       623\n",
      "   macro avg       0.86      0.84      0.85       623\n",
      "weighted avg       0.86      0.86      0.86       623\n",
      "\n",
      "==================================================\n",
      "\n",
      "********************* Visualization of confusion Matrics ****************************\n",
      "\n"
     ]
    },
    {
     "data": {
      "image/png": "[encoded data removed]",
      "text/plain": [
       "<Figure size 432x288 with 2 Axes>"
      ]
     },
     "metadata": {
      "needs_background": "light"
     },
     "output_type": "display_data"
    }
   ],
   "source": [
    "#################################  KNN classifer with Normalization  #####################################\n",
    "\n",
    "a=\"KNN classifer with Normalization\"\n",
    "obj=Model(knn,x_normal_train,x_normal_test,y_normal_train,y_normal_test)\n",
    "obj.model_training()\n",
    "obj.model_evaluation()\n",
    "obj.Visualize_confusion_matrics()"
   ]
  },
  {
   "cell_type": "code",
   "execution_count": 144,
   "id": "fcb1be36",
   "metadata": {},
   "outputs": [
    {
     "name": "stdout",
     "output_type": "stream",
     "text": [
      "========================================================================================================================\n",
      "  #################################   KNN classifer with Standardization   ############################\n",
      "======================================================================================================================== \n",
      "\n",
      "\n",
      "****************************  Evaluation of Testing Data  ***************************\n",
      "\n",
      "Confusion Matrics is---->\n",
      " [[139  26]\n",
      " [ 28  75]]\n",
      "==================================================\n",
      "The accuarcy score is----> 0.7985074626865671\n",
      "==================================================\n",
      " The classification report is---->\n",
      " \n",
      "               precision    recall  f1-score   support\n",
      "\n",
      "         0.0       0.83      0.84      0.84       165\n",
      "         1.0       0.74      0.73      0.74       103\n",
      "\n",
      "    accuracy                           0.80       268\n",
      "   macro avg       0.79      0.79      0.79       268\n",
      "weighted avg       0.80      0.80      0.80       268\n",
      "\n",
      "==================================================\n",
      "\n",
      "****************************  Evaluation of Training Data  ***************************\n",
      "\n",
      "Confusion Matrics is---->\n",
      " [[348  34]\n",
      " [ 57 184]]\n",
      "==================================================\n",
      "The accuarcy score is----> 0.8539325842696629\n",
      "==================================================\n",
      " The classification report is---->\n",
      " \n",
      "               precision    recall  f1-score   support\n",
      "\n",
      "         0.0       0.86      0.91      0.88       382\n",
      "         1.0       0.84      0.76      0.80       241\n",
      "\n",
      "    accuracy                           0.85       623\n",
      "   macro avg       0.85      0.84      0.84       623\n",
      "weighted avg       0.85      0.85      0.85       623\n",
      "\n",
      "==================================================\n",
      "\n",
      "********************* Visualization of confusion Matrics ****************************\n",
      "\n"
     ]
    },
    {
     "data": {
      "image/png": "[encoded data removed]",
      "text/plain": [
       "<Figure size 432x288 with 2 Axes>"
      ]
     },
     "metadata": {
      "needs_background": "light"
     },
     "output_type": "display_data"
    }
   ],
   "source": [
    "#################################  KNN classifer with Standardization  #####################################\n",
    "\n",
    "a=\"KNN classifer with Standardization\"\n",
    "obj=Model(knn,x_std_train,x_std_test,y_std_train,y_std_test)\n",
    "obj.model_training()\n",
    "obj.model_evaluation()\n",
    "obj.Visualize_confusion_matrics()"
   ]
  },
  {
   "cell_type": "code",
   "execution_count": 145,
   "id": "2cd6b07c",
   "metadata": {},
   "outputs": [
    {
     "name": "stdout",
     "output_type": "stream",
     "text": [
      "========================================================================================================================\n",
      "  #################################   Decision Tree Classifier   ############################\n",
      "======================================================================================================================== \n",
      "\n",
      "\n",
      "****************************  Evaluation of Testing Data  ***************************\n",
      "\n",
      "Confusion Matrics is---->\n",
      " [[132  33]\n",
      " [ 30  73]]\n",
      "==================================================\n",
      "The accuarcy score is----> 0.7649253731343284\n",
      "==================================================\n",
      " The classification report is---->\n",
      " \n",
      "               precision    recall  f1-score   support\n",
      "\n",
      "         0.0       0.81      0.80      0.81       165\n",
      "         1.0       0.69      0.71      0.70       103\n",
      "\n",
      "    accuracy                           0.76       268\n",
      "   macro avg       0.75      0.75      0.75       268\n",
      "weighted avg       0.77      0.76      0.77       268\n",
      "\n",
      "==================================================\n",
      "\n",
      "****************************  Evaluation of Training Data  ***************************\n",
      "\n",
      "Confusion Matrics is---->\n",
      " [[382   0]\n",
      " [  3 238]]\n",
      "==================================================\n",
      "The accuarcy score is----> 0.9951845906902087\n",
      "==================================================\n",
      " The classification report is---->\n",
      " \n",
      "               precision    recall  f1-score   support\n",
      "\n",
      "         0.0       0.99      1.00      1.00       382\n",
      "         1.0       1.00      0.99      0.99       241\n",
      "\n",
      "    accuracy                           1.00       623\n",
      "   macro avg       1.00      0.99      0.99       623\n",
      "weighted avg       1.00      1.00      1.00       623\n",
      "\n",
      "==================================================\n",
      "\n",
      "********************* Visualization of confusion Matrics ****************************\n",
      "\n"
     ]
    },
    {
     "data": {
      "image/png": "[encoded data removed]",
      "text/plain": [
       "<Figure size 432x288 with 2 Axes>"
      ]
     },
     "metadata": {
      "needs_background": "light"
     },
     "output_type": "display_data"
    }
   ],
   "source": [
    "#####################################  Decision Tree Classifier ################################################\n",
    "\n",
    "a=\"Decision Tree Classifier\"\n",
    "obj=Model(dt,x_train,x_test,y_train,y_test)\n",
    "obj.model_training()\n",
    "obj.model_evaluation()\n",
    "obj.Visualize_confusion_matrics()"
   ]
  },
  {
   "cell_type": "markdown",
   "id": "ea9c16b2",
   "metadata": {},
   "source": [
    "#### Hyperparameter Tunning For Decision Tree"
   ]
  },
  {
   "cell_type": "code",
   "execution_count": 146,
   "id": "673415e2",
   "metadata": {},
   "outputs": [],
   "source": [
    "hyperparameters = {\"criterion\":['gini', 'entropy'],\n",
    "                 'max_depth':np.arange(3,8),\n",
    "                 'min_samples_split': np.arange(2,20),\n",
    "                 'min_samples_leaf':np.arange(2,15)}"
   ]
  },
  {
   "cell_type": "code",
   "execution_count": 147,
   "id": "d36869c3",
   "metadata": {},
   "outputs": [
    {
     "name": "stdout",
     "output_type": "stream",
     "text": [
      "========================================================================================================================\n",
      "  #################################   Decision Tree Classifier with Hyperparameter Tunning   ############################\n",
      "======================================================================================================================== \n",
      "\n",
      "\n",
      "****************************  Evaluation of Testing Data  ***************************\n",
      "\n",
      "Confusion Matrics is---->\n",
      " [[157   8]\n",
      " [ 38  65]]\n",
      "==================================================\n",
      "The accuarcy score is----> 0.8283582089552238\n",
      "==================================================\n",
      " The classification report is---->\n",
      " \n",
      "               precision    recall  f1-score   support\n",
      "\n",
      "         0.0       0.81      0.95      0.87       165\n",
      "         1.0       0.89      0.63      0.74       103\n",
      "\n",
      "    accuracy                           0.83       268\n",
      "   macro avg       0.85      0.79      0.81       268\n",
      "weighted avg       0.84      0.83      0.82       268\n",
      "\n",
      "==================================================\n",
      "\n",
      "****************************  Evaluation of Training Data  ***************************\n",
      "\n",
      "Confusion Matrics is---->\n",
      " [[361  21]\n",
      " [ 73 168]]\n",
      "==================================================\n",
      "The accuarcy score is----> 0.8491171749598716\n",
      "==================================================\n",
      " The classification report is---->\n",
      " \n",
      "               precision    recall  f1-score   support\n",
      "\n",
      "         0.0       0.83      0.95      0.88       382\n",
      "         1.0       0.89      0.70      0.78       241\n",
      "\n",
      "    accuracy                           0.85       623\n",
      "   macro avg       0.86      0.82      0.83       623\n",
      "weighted avg       0.85      0.85      0.84       623\n",
      "\n",
      "==================================================\n"
     ]
    },
    {
     "data": {
      "text/html": [
       "<style>#sk-container-id-6 {color: black;background-color: white;}#sk-container-id-6 pre{padding: 0;}#sk-container-id-6 div.sk-toggleable {background-color: white;}#sk-container-id-6 label.sk-toggleable__label {cursor: pointer;display: block;width: 100%;margin-bottom: 0;padding: 0.3em;box-sizing: border-box;text-align: center;}#sk-container-id-6 label.sk-toggleable__label-arrow:before {content: \"▸\";float: left;margin-right: 0.25em;color: #696969;}#sk-container-id-6 label.sk-toggleable__label-arrow:hover:before {color: black;}#sk-container-id-6 div.sk-estimator:hover label.sk-toggleable__label-arrow:before {color: black;}#sk-container-id-6 div.sk-toggleable__content {max-height: 0;max-width: 0;overflow: hidden;text-align: left;background-color: #f0f8ff;}#sk-container-id-6 div.sk-toggleable__content pre {margin: 0.2em;color: black;border-radius: 0.25em;background-color: #f0f8ff;}#sk-container-id-6 input.sk-toggleable__control:checked~div.sk-toggleable__content {max-height: 200px;max-width: 100%;overflow: auto;}#sk-container-id-6 input.sk-toggleable__control:checked~label.sk-toggleable__label-arrow:before {content: \"▾\";}#sk-container-id-6 div.sk-estimator input.sk-toggleable__control:checked~label.sk-toggleable__label {background-color: #d4ebff;}#sk-container-id-6 div.sk-label input.sk-toggleable__control:checked~label.sk-toggleable__label {background-color: #d4ebff;}#sk-container-id-6 input.sk-hidden--visually {border: 0;clip: rect(1px 1px 1px 1px);clip: rect(1px, 1px, 1px, 1px);height: 1px;margin: -1px;overflow: hidden;padding: 0;position: absolute;width: 1px;}#sk-container-id-6 div.sk-estimator {font-family: monospace;background-color: #f0f8ff;border: 1px dotted black;border-radius: 0.25em;box-sizing: border-box;margin-bottom: 0.5em;}#sk-container-id-6 div.sk-estimator:hover {background-color: #d4ebff;}#sk-container-id-6 div.sk-parallel-item::after {content: \"\";width: 100%;border-bottom: 1px solid gray;flex-grow: 1;}#sk-container-id-6 div.sk-label:hover label.sk-toggleable__label {background-color: #d4ebff;}#sk-container-id-6 div.sk-serial::before {content: \"\";position: absolute;border-left: 1px solid gray;box-sizing: border-box;top: 0;bottom: 0;left: 50%;z-index: 0;}#sk-container-id-6 div.sk-serial {display: flex;flex-direction: column;align-items: center;background-color: white;padding-right: 0.2em;padding-left: 0.2em;position: relative;}#sk-container-id-6 div.sk-item {position: relative;z-index: 1;}#sk-container-id-6 div.sk-parallel {display: flex;align-items: stretch;justify-content: center;background-color: white;position: relative;}#sk-container-id-6 div.sk-item::before, #sk-container-id-6 div.sk-parallel-item::before {content: \"\";position: absolute;border-left: 1px solid gray;box-sizing: border-box;top: 0;bottom: 0;left: 50%;z-index: -1;}#sk-container-id-6 div.sk-parallel-item {display: flex;flex-direction: column;z-index: 1;position: relative;background-color: white;}#sk-container-id-6 div.sk-parallel-item:first-child::after {align-self: flex-end;width: 50%;}#sk-container-id-6 div.sk-parallel-item:last-child::after {align-self: flex-start;width: 50%;}#sk-container-id-6 div.sk-parallel-item:only-child::after {width: 0;}#sk-container-id-6 div.sk-dashed-wrapped {border: 1px dashed gray;margin: 0 0.4em 0.5em 0.4em;box-sizing: border-box;padding-bottom: 0.4em;background-color: white;}#sk-container-id-6 div.sk-label label {font-family: monospace;font-weight: bold;display: inline-block;line-height: 1.2em;}#sk-container-id-6 div.sk-label-container {text-align: center;}#sk-container-id-6 div.sk-container {/* jupyter's `normalize.less` sets `[hidden] { display: none; }` but bootstrap.min.css set `[hidden] { display: none !important; }` so we also need the `!important` here to be able to override the default hidden behavior on the sphinx rendered scikit-learn.org. See: https://github.com/scikit-learn/scikit-learn/issues/21755 */display: inline-block !important;position: relative;}#sk-container-id-6 div.sk-text-repr-fallback {display: none;}</style><div id=\"sk-container-id-6\" class=\"sk-top-container\"><div class=\"sk-text-repr-fallback\"><pre>DecisionTreeClassifier(criterion=&#x27;entropy&#x27;, max_depth=5, min_samples_leaf=9,\n",
       "                       min_samples_split=13, random_state=1)</pre><b>In a Jupyter environment, please rerun this cell to show the HTML representation or trust the notebook. <br />On GitHub, the HTML representation is unable to render, please try loading this page with nbviewer.org.</b></div><div class=\"sk-container\" hidden><div class=\"sk-item\"><div class=\"sk-estimator sk-toggleable\"><input class=\"sk-toggleable__control sk-hidden--visually\" id=\"sk-estimator-id-6\" type=\"checkbox\" checked><label for=\"sk-estimator-id-6\" class=\"sk-toggleable__label sk-toggleable__label-arrow\">DecisionTreeClassifier</label><div class=\"sk-toggleable__content\"><pre>DecisionTreeClassifier(criterion=&#x27;entropy&#x27;, max_depth=5, min_samples_leaf=9,\n",
       "                       min_samples_split=13, random_state=1)</pre></div></div></div></div></div>"
      ],
      "text/plain": [
       "DecisionTreeClassifier(criterion='entropy', max_depth=5, min_samples_leaf=9,\n",
       "                       min_samples_split=13, random_state=1)"
      ]
     },
     "execution_count": 147,
     "metadata": {},
     "output_type": "execute_result"
    }
   ],
   "source": [
    "###########################  Decision Tree Classifier with Hyperparameter Tunning ####################################\n",
    "\n",
    "a=\"Decision Tree Classifier with Hyperparameter Tunning\"\n",
    "obj=Model(dt,x_train,x_test,y_train,y_test)\n",
    "obj.model_training()\n",
    "obj.hyperparamter_tunning(hyperparameters)\n"
   ]
  },
  {
   "cell_type": "code",
   "execution_count": 148,
   "id": "97bead0a",
   "metadata": {},
   "outputs": [],
   "source": [
    "dt_hyp=DecisionTreeClassifier(criterion='entropy', max_depth=4, min_samples_leaf=11,\n",
    "                       random_state=1)"
   ]
  },
  {
   "cell_type": "markdown",
   "id": "f587d4a5",
   "metadata": {},
   "source": [
    "#### Prunning for Decision Tree"
   ]
  },
  {
   "cell_type": "code",
   "execution_count": 149,
   "id": "29a2bdfc",
   "metadata": {},
   "outputs": [],
   "source": [
    "result=dt.cost_complexity_pruning_path(x_train,y_train)"
   ]
  },
  {
   "cell_type": "code",
   "execution_count": 150,
   "id": "c52bee33",
   "metadata": {},
   "outputs": [],
   "source": [
    "ccp_alpha_values=result[\"ccp_alphas\"]"
   ]
  },
  {
   "cell_type": "code",
   "execution_count": 151,
   "id": "0d653440",
   "metadata": {},
   "outputs": [],
   "source": [
    "training_acc=[]\n",
    "testing_acc=[]\n",
    "\n",
    "for i in ccp_alpha_values:\n",
    "    dt_prun_model=DecisionTreeClassifier(ccp_alpha=i,random_state=1)\n",
    "    dt_prun_model.fit(x_train,y_train)\n",
    "    \n",
    "    acc1=dt_prun_model.score(x_train,y_train)\n",
    "    training_acc.append(acc1)\n",
    "    \n",
    "    acc2=dt_prun_model.score(x_test,y_test)\n",
    "    testing_acc.append(acc2)\n",
    "    \n",
    "    "
   ]
  },
  {
   "cell_type": "code",
   "execution_count": 152,
   "id": "b54aae56",
   "metadata": {},
   "outputs": [
    {
     "data": {
      "text/plain": [
       "<matplotlib.legend.Legend at 0x1c8d077ca00>"
      ]
     },
     "execution_count": 152,
     "metadata": {},
     "output_type": "execute_result"
    },
    {
     "data": {
      "image/png": "[encoded data removed]",
      "text/plain": [
       "<Figure size 432x288 with 1 Axes>"
      ]
     },
     "metadata": {
      "needs_background": "light"
     },
     "output_type": "display_data"
    }
   ],
   "source": [
    "fig, ax = plt.subplots()\n",
    "ax.plot(ccp_alpha_values, training_acc, label = \"Training Data Accuracy\")\n",
    "ax.plot(ccp_alpha_values, testing_acc, label = \"Testing Data Accuracy\")\n",
    "ax.legend()"
   ]
  },
  {
   "cell_type": "code",
   "execution_count": 153,
   "id": "0d9d4436",
   "metadata": {},
   "outputs": [
    {
     "data": {
      "text/plain": [
       "34"
      ]
     },
     "execution_count": 153,
     "metadata": {},
     "output_type": "execute_result"
    }
   ],
   "source": [
    "index=testing_acc.index(max(testing_acc))\n",
    "index"
   ]
  },
  {
   "cell_type": "code",
   "execution_count": 154,
   "id": "5301234b",
   "metadata": {},
   "outputs": [
    {
     "data": {
      "text/plain": [
       "0.0021401819154628146"
      ]
     },
     "execution_count": 154,
     "metadata": {},
     "output_type": "execute_result"
    }
   ],
   "source": [
    "best_ccp_alpha=ccp_alpha_values[index]\n",
    "best_ccp_alpha"
   ]
  },
  {
   "cell_type": "code",
   "execution_count": 155,
   "id": "7e8b533d",
   "metadata": {},
   "outputs": [],
   "source": [
    "dt_prun_model=DecisionTreeClassifier(ccp_alpha=best_ccp_alpha,random_state=1)"
   ]
  },
  {
   "cell_type": "code",
   "execution_count": 156,
   "id": "945ad660",
   "metadata": {},
   "outputs": [
    {
     "name": "stdout",
     "output_type": "stream",
     "text": [
      "========================================================================================================================\n",
      "  #################################   Decision Tree Classifier with Prunning   ############################\n",
      "======================================================================================================================== \n",
      "\n",
      "\n",
      "****************************  Evaluation of Testing Data  ***************************\n",
      "\n",
      "Confusion Matrics is---->\n",
      " [[150  15]\n",
      " [ 27  76]]\n",
      "==================================================\n",
      "The accuarcy score is----> 0.8432835820895522\n",
      "==================================================\n",
      " The classification report is---->\n",
      " \n",
      "               precision    recall  f1-score   support\n",
      "\n",
      "         0.0       0.85      0.91      0.88       165\n",
      "         1.0       0.84      0.74      0.78       103\n",
      "\n",
      "    accuracy                           0.84       268\n",
      "   macro avg       0.84      0.82      0.83       268\n",
      "weighted avg       0.84      0.84      0.84       268\n",
      "\n",
      "==================================================\n",
      "\n",
      "****************************  Evaluation of Training Data  ***************************\n",
      "\n",
      "Confusion Matrics is---->\n",
      " [[364  18]\n",
      " [ 37 204]]\n",
      "==================================================\n",
      "The accuarcy score is----> 0.9117174959871589\n",
      "==================================================\n",
      " The classification report is---->\n",
      " \n",
      "               precision    recall  f1-score   support\n",
      "\n",
      "         0.0       0.91      0.95      0.93       382\n",
      "         1.0       0.92      0.85      0.88       241\n",
      "\n",
      "    accuracy                           0.91       623\n",
      "   macro avg       0.91      0.90      0.91       623\n",
      "weighted avg       0.91      0.91      0.91       623\n",
      "\n",
      "==================================================\n",
      "\n",
      "********************* Visualization of confusion Matrics ****************************\n",
      "\n"
     ]
    },
    {
     "data": {
      "image/png": "[encoded data removed]",
      "text/plain": [
       "<Figure size 432x288 with 2 Axes>"
      ]
     },
     "metadata": {
      "needs_background": "light"
     },
     "output_type": "display_data"
    }
   ],
   "source": [
    "#####################################  Decision Tree Classifier with Prunning #####################################\n",
    "\n",
    "a=\"Decision Tree Classifier with Prunning\"\n",
    "obj=Model(dt_prun_model,x_train,x_test,y_train,y_test)\n",
    "obj.model_training()\n",
    "obj.model_evaluation()\n",
    "obj.Visualize_confusion_matrics()"
   ]
  },
  {
   "cell_type": "code",
   "execution_count": 157,
   "id": "7105ce01",
   "metadata": {},
   "outputs": [
    {
     "name": "stdout",
     "output_type": "stream",
     "text": [
      "========================================================================================================================\n",
      "  #################################   Random Forest Classifier   ############################\n",
      "======================================================================================================================== \n",
      "\n",
      "\n",
      "****************************  Evaluation of Testing Data  ***************************\n",
      "\n",
      "Confusion Matrics is---->\n",
      " [[140  25]\n",
      " [ 26  77]]\n",
      "==================================================\n",
      "The accuarcy score is----> 0.8097014925373134\n",
      "==================================================\n",
      " The classification report is---->\n",
      " \n",
      "               precision    recall  f1-score   support\n",
      "\n",
      "         0.0       0.84      0.85      0.85       165\n",
      "         1.0       0.75      0.75      0.75       103\n",
      "\n",
      "    accuracy                           0.81       268\n",
      "   macro avg       0.80      0.80      0.80       268\n",
      "weighted avg       0.81      0.81      0.81       268\n",
      "\n",
      "==================================================\n",
      "\n",
      "****************************  Evaluation of Training Data  ***************************\n",
      "\n",
      "Confusion Matrics is---->\n",
      " [[381   1]\n",
      " [  2 239]]\n",
      "==================================================\n",
      "The accuarcy score is----> 0.9951845906902087\n",
      "==================================================\n",
      " The classification report is---->\n",
      " \n",
      "               precision    recall  f1-score   support\n",
      "\n",
      "         0.0       0.99      1.00      1.00       382\n",
      "         1.0       1.00      0.99      0.99       241\n",
      "\n",
      "    accuracy                           1.00       623\n",
      "   macro avg       1.00      0.99      0.99       623\n",
      "weighted avg       1.00      1.00      1.00       623\n",
      "\n",
      "==================================================\n",
      "\n",
      "********************* Visualization of confusion Matrics ****************************\n",
      "\n"
     ]
    },
    {
     "data": {
      "image/png": "[encoded data removed]",
      "text/plain": [
       "<Figure size 432x288 with 2 Axes>"
      ]
     },
     "metadata": {
      "needs_background": "light"
     },
     "output_type": "display_data"
    }
   ],
   "source": [
    "#####################################  Random Forest Classifier #####################################\n",
    "\n",
    "a=\"Random Forest Classifier\"\n",
    "obj=Model(rf,x_train,x_test,y_train,y_test)\n",
    "obj.model_training()\n",
    "obj.model_evaluation()\n",
    "obj.Visualize_confusion_matrics()"
   ]
  },
  {
   "cell_type": "markdown",
   "id": "0e0064d5",
   "metadata": {},
   "source": [
    "#### Hyperparameter Tunning For Random Forest "
   ]
  },
  {
   "cell_type": "code",
   "execution_count": 158,
   "id": "36e273fe",
   "metadata": {},
   "outputs": [],
   "source": [
    "hyperparameters = {'n_estimators':np.arange(10,200),\n",
    "                   'criterion':['gini','entropy'],\n",
    "                   'max_depth':np.arange(3,8),\n",
    "                   'min_samples_split':np.arange(2,20),\n",
    "                   'min_samples_leaf':np.arange(3,10),\n",
    "                   'max_features':['sqrt','log2'],\n",
    "                   'oob_score':[True],\n",
    "                  'ccp_alpha':list(np.random.random(10))}\n"
   ]
  },
  {
   "cell_type": "code",
   "execution_count": 159,
   "id": "5777c1bd",
   "metadata": {},
   "outputs": [
    {
     "name": "stdout",
     "output_type": "stream",
     "text": [
      "========================================================================================================================\n",
      "  #################################   Random Forest Classifier with Hyperparameter Tunning   ############################\n",
      "======================================================================================================================== \n",
      "\n",
      "\n",
      "****************************  Evaluation of Testing Data  ***************************\n",
      "\n",
      "Confusion Matrics is---->\n",
      " [[162   3]\n",
      " [ 52  51]]\n",
      "==================================================\n",
      "The accuarcy score is----> 0.7947761194029851\n",
      "==================================================\n",
      " The classification report is---->\n",
      " \n",
      "               precision    recall  f1-score   support\n",
      "\n",
      "         0.0       0.76      0.98      0.85       165\n",
      "         1.0       0.94      0.50      0.65       103\n",
      "\n",
      "    accuracy                           0.79       268\n",
      "   macro avg       0.85      0.74      0.75       268\n",
      "weighted avg       0.83      0.79      0.78       268\n",
      "\n",
      "==================================================\n",
      "\n",
      "****************************  Evaluation of Training Data  ***************************\n",
      "\n",
      "Confusion Matrics is---->\n",
      " [[376   6]\n",
      " [131 110]]\n",
      "==================================================\n",
      "The accuarcy score is----> 0.7800963081861958\n",
      "==================================================\n",
      " The classification report is---->\n",
      " \n",
      "               precision    recall  f1-score   support\n",
      "\n",
      "         0.0       0.74      0.98      0.85       382\n",
      "         1.0       0.95      0.46      0.62       241\n",
      "\n",
      "    accuracy                           0.78       623\n",
      "   macro avg       0.84      0.72      0.73       623\n",
      "weighted avg       0.82      0.78      0.76       623\n",
      "\n",
      "==================================================\n"
     ]
    },
    {
     "data": {
      "text/html": [
       "<style>#sk-container-id-7 {color: black;background-color: white;}#sk-container-id-7 pre{padding: 0;}#sk-container-id-7 div.sk-toggleable {background-color: white;}#sk-container-id-7 label.sk-toggleable__label {cursor: pointer;display: block;width: 100%;margin-bottom: 0;padding: 0.3em;box-sizing: border-box;text-align: center;}#sk-container-id-7 label.sk-toggleable__label-arrow:before {content: \"▸\";float: left;margin-right: 0.25em;color: #696969;}#sk-container-id-7 label.sk-toggleable__label-arrow:hover:before {color: black;}#sk-container-id-7 div.sk-estimator:hover label.sk-toggleable__label-arrow:before {color: black;}#sk-container-id-7 div.sk-toggleable__content {max-height: 0;max-width: 0;overflow: hidden;text-align: left;background-color: #f0f8ff;}#sk-container-id-7 div.sk-toggleable__content pre {margin: 0.2em;color: black;border-radius: 0.25em;background-color: #f0f8ff;}#sk-container-id-7 input.sk-toggleable__control:checked~div.sk-toggleable__content {max-height: 200px;max-width: 100%;overflow: auto;}#sk-container-id-7 input.sk-toggleable__control:checked~label.sk-toggleable__label-arrow:before {content: \"▾\";}#sk-container-id-7 div.sk-estimator input.sk-toggleable__control:checked~label.sk-toggleable__label {background-color: #d4ebff;}#sk-container-id-7 div.sk-label input.sk-toggleable__control:checked~label.sk-toggleable__label {background-color: #d4ebff;}#sk-container-id-7 input.sk-hidden--visually {border: 0;clip: rect(1px 1px 1px 1px);clip: rect(1px, 1px, 1px, 1px);height: 1px;margin: -1px;overflow: hidden;padding: 0;position: absolute;width: 1px;}#sk-container-id-7 div.sk-estimator {font-family: monospace;background-color: #f0f8ff;border: 1px dotted black;border-radius: 0.25em;box-sizing: border-box;margin-bottom: 0.5em;}#sk-container-id-7 div.sk-estimator:hover {background-color: #d4ebff;}#sk-container-id-7 div.sk-parallel-item::after {content: \"\";width: 100%;border-bottom: 1px solid gray;flex-grow: 1;}#sk-container-id-7 div.sk-label:hover label.sk-toggleable__label {background-color: #d4ebff;}#sk-container-id-7 div.sk-serial::before {content: \"\";position: absolute;border-left: 1px solid gray;box-sizing: border-box;top: 0;bottom: 0;left: 50%;z-index: 0;}#sk-container-id-7 div.sk-serial {display: flex;flex-direction: column;align-items: center;background-color: white;padding-right: 0.2em;padding-left: 0.2em;position: relative;}#sk-container-id-7 div.sk-item {position: relative;z-index: 1;}#sk-container-id-7 div.sk-parallel {display: flex;align-items: stretch;justify-content: center;background-color: white;position: relative;}#sk-container-id-7 div.sk-item::before, #sk-container-id-7 div.sk-parallel-item::before {content: \"\";position: absolute;border-left: 1px solid gray;box-sizing: border-box;top: 0;bottom: 0;left: 50%;z-index: -1;}#sk-container-id-7 div.sk-parallel-item {display: flex;flex-direction: column;z-index: 1;position: relative;background-color: white;}#sk-container-id-7 div.sk-parallel-item:first-child::after {align-self: flex-end;width: 50%;}#sk-container-id-7 div.sk-parallel-item:last-child::after {align-self: flex-start;width: 50%;}#sk-container-id-7 div.sk-parallel-item:only-child::after {width: 0;}#sk-container-id-7 div.sk-dashed-wrapped {border: 1px dashed gray;margin: 0 0.4em 0.5em 0.4em;box-sizing: border-box;padding-bottom: 0.4em;background-color: white;}#sk-container-id-7 div.sk-label label {font-family: monospace;font-weight: bold;display: inline-block;line-height: 1.2em;}#sk-container-id-7 div.sk-label-container {text-align: center;}#sk-container-id-7 div.sk-container {/* jupyter's `normalize.less` sets `[hidden] { display: none; }` but bootstrap.min.css set `[hidden] { display: none !important; }` so we also need the `!important` here to be able to override the default hidden behavior on the sphinx rendered scikit-learn.org. See: https://github.com/scikit-learn/scikit-learn/issues/21755 */display: inline-block !important;position: relative;}#sk-container-id-7 div.sk-text-repr-fallback {display: none;}</style><div id=\"sk-container-id-7\" class=\"sk-top-container\"><div class=\"sk-text-repr-fallback\"><pre>RandomForestClassifier(ccp_alpha=0.06685767933492037, criterion=&#x27;entropy&#x27;,\n",
       "                       max_depth=3, min_samples_leaf=7, min_samples_split=4,\n",
       "                       n_estimators=14, oob_score=True, random_state=1)</pre><b>In a Jupyter environment, please rerun this cell to show the HTML representation or trust the notebook. <br />On GitHub, the HTML representation is unable to render, please try loading this page with nbviewer.org.</b></div><div class=\"sk-container\" hidden><div class=\"sk-item\"><div class=\"sk-estimator sk-toggleable\"><input class=\"sk-toggleable__control sk-hidden--visually\" id=\"sk-estimator-id-7\" type=\"checkbox\" checked><label for=\"sk-estimator-id-7\" class=\"sk-toggleable__label sk-toggleable__label-arrow\">RandomForestClassifier</label><div class=\"sk-toggleable__content\"><pre>RandomForestClassifier(ccp_alpha=0.06685767933492037, criterion=&#x27;entropy&#x27;,\n",
       "                       max_depth=3, min_samples_leaf=7, min_samples_split=4,\n",
       "                       n_estimators=14, oob_score=True, random_state=1)</pre></div></div></div></div></div>"
      ],
      "text/plain": [
       "RandomForestClassifier(ccp_alpha=0.06685767933492037, criterion='entropy',\n",
       "                       max_depth=3, min_samples_leaf=7, min_samples_split=4,\n",
       "                       n_estimators=14, oob_score=True, random_state=1)"
      ]
     },
     "execution_count": 159,
     "metadata": {},
     "output_type": "execute_result"
    }
   ],
   "source": [
    "#########################  Random Forest Classifier with Hyperparameter Tunning ############################\n",
    "\n",
    "a=\"Random Forest Classifier with Hyperparameter Tunning\"\n",
    "obj=Model(rf,x_train,x_test,y_train,y_test)\n",
    "obj.model_training()\n",
    "obj.hyperparamter_tunning(hyperparameters)"
   ]
  },
  {
   "cell_type": "code",
   "execution_count": 160,
   "id": "0d441386",
   "metadata": {},
   "outputs": [],
   "source": [
    "rf_hyp=RandomForestClassifier(ccp_alpha=0.10668083604147127, criterion='entropy',\n",
    "                       max_depth=6, max_features='log2', min_samples_leaf=8,\n",
    "                       min_samples_split=7, n_estimators=188, oob_score=True,\n",
    "                       random_state=1)"
   ]
  },
  {
   "cell_type": "code",
   "execution_count": 161,
   "id": "6a649ef4",
   "metadata": {},
   "outputs": [
    {
     "name": "stdout",
     "output_type": "stream",
     "text": [
      "========================================================================================================================\n",
      "  #################################   AdaBoost Classifier   ############################\n",
      "======================================================================================================================== \n",
      "\n",
      "\n",
      "****************************  Evaluation of Testing Data  ***************************\n",
      "\n",
      "Confusion Matrics is---->\n",
      " [[140  25]\n",
      " [ 28  75]]\n",
      "==================================================\n",
      "The accuarcy score is----> 0.8022388059701493\n",
      "==================================================\n",
      " The classification report is---->\n",
      " \n",
      "               precision    recall  f1-score   support\n",
      "\n",
      "         0.0       0.83      0.85      0.84       165\n",
      "         1.0       0.75      0.73      0.74       103\n",
      "\n",
      "    accuracy                           0.80       268\n",
      "   macro avg       0.79      0.79      0.79       268\n",
      "weighted avg       0.80      0.80      0.80       268\n",
      "\n",
      "==================================================\n",
      "\n",
      "****************************  Evaluation of Training Data  ***************************\n",
      "\n",
      "Confusion Matrics is---->\n",
      " [[343  39]\n",
      " [ 54 187]]\n",
      "==================================================\n",
      "The accuarcy score is----> 0.8507223113964687\n",
      "==================================================\n",
      " The classification report is---->\n",
      " \n",
      "               precision    recall  f1-score   support\n",
      "\n",
      "         0.0       0.86      0.90      0.88       382\n",
      "         1.0       0.83      0.78      0.80       241\n",
      "\n",
      "    accuracy                           0.85       623\n",
      "   macro avg       0.85      0.84      0.84       623\n",
      "weighted avg       0.85      0.85      0.85       623\n",
      "\n",
      "==================================================\n",
      "\n",
      "********************* Visualization of confusion Matrics ****************************\n",
      "\n"
     ]
    },
    {
     "data": {
      "image/png": "[encoded data removed]",
      "text/plain": [
       "<Figure size 432x288 with 2 Axes>"
      ]
     },
     "metadata": {
      "needs_background": "light"
     },
     "output_type": "display_data"
    }
   ],
   "source": [
    "#########################  AdaBoost Classifier  ############################\n",
    "\n",
    "a=\"AdaBoost Classifier\"\n",
    "obj=Model(adb,x_train,x_test,y_train,y_test)\n",
    "obj.model_training()\n",
    "obj.model_evaluation()\n",
    "obj.Visualize_confusion_matrics()"
   ]
  },
  {
   "cell_type": "markdown",
   "id": "d6982448",
   "metadata": {},
   "source": [
    "#### Hyperparameter Tunning For Adaboost"
   ]
  },
  {
   "cell_type": "code",
   "execution_count": 162,
   "id": "e0987fd0",
   "metadata": {},
   "outputs": [],
   "source": [
    "hyperparameters = {\"n_estimators\":np.arange(10, 100),\n",
    "                  \"learning_rate\":np.arange(0, 2, 0.001)}"
   ]
  },
  {
   "cell_type": "code",
   "execution_count": 163,
   "id": "30bf87cc",
   "metadata": {},
   "outputs": [
    {
     "name": "stdout",
     "output_type": "stream",
     "text": [
      "========================================================================================================================\n",
      "  #################################   AdaBoost Classifier with Hyperparameter Tunning   ############################\n",
      "======================================================================================================================== \n",
      "\n",
      "\n",
      "****************************  Evaluation of Testing Data  ***************************\n",
      "\n",
      "Confusion Matrics is---->\n",
      " [[141  24]\n",
      " [ 33  70]]\n",
      "==================================================\n",
      "The accuarcy score is----> 0.7873134328358209\n",
      "==================================================\n",
      " The classification report is---->\n",
      " \n",
      "               precision    recall  f1-score   support\n",
      "\n",
      "         0.0       0.81      0.85      0.83       165\n",
      "         1.0       0.74      0.68      0.71       103\n",
      "\n",
      "    accuracy                           0.79       268\n",
      "   macro avg       0.78      0.77      0.77       268\n",
      "weighted avg       0.79      0.79      0.79       268\n",
      "\n",
      "==================================================\n",
      "\n",
      "****************************  Evaluation of Training Data  ***************************\n",
      "\n",
      "Confusion Matrics is---->\n",
      " [[337  45]\n",
      " [ 69 172]]\n",
      "==================================================\n",
      "The accuarcy score is----> 0.8170144462279294\n",
      "==================================================\n",
      " The classification report is---->\n",
      " \n",
      "               precision    recall  f1-score   support\n",
      "\n",
      "         0.0       0.83      0.88      0.86       382\n",
      "         1.0       0.79      0.71      0.75       241\n",
      "\n",
      "    accuracy                           0.82       623\n",
      "   macro avg       0.81      0.80      0.80       623\n",
      "weighted avg       0.82      0.82      0.82       623\n",
      "\n",
      "==================================================\n"
     ]
    },
    {
     "data": {
      "text/html": [
       "<style>#sk-container-id-8 {color: black;background-color: white;}#sk-container-id-8 pre{padding: 0;}#sk-container-id-8 div.sk-toggleable {background-color: white;}#sk-container-id-8 label.sk-toggleable__label {cursor: pointer;display: block;width: 100%;margin-bottom: 0;padding: 0.3em;box-sizing: border-box;text-align: center;}#sk-container-id-8 label.sk-toggleable__label-arrow:before {content: \"▸\";float: left;margin-right: 0.25em;color: #696969;}#sk-container-id-8 label.sk-toggleable__label-arrow:hover:before {color: black;}#sk-container-id-8 div.sk-estimator:hover label.sk-toggleable__label-arrow:before {color: black;}#sk-container-id-8 div.sk-toggleable__content {max-height: 0;max-width: 0;overflow: hidden;text-align: left;background-color: #f0f8ff;}#sk-container-id-8 div.sk-toggleable__content pre {margin: 0.2em;color: black;border-radius: 0.25em;background-color: #f0f8ff;}#sk-container-id-8 input.sk-toggleable__control:checked~div.sk-toggleable__content {max-height: 200px;max-width: 100%;overflow: auto;}#sk-container-id-8 input.sk-toggleable__control:checked~label.sk-toggleable__label-arrow:before {content: \"▾\";}#sk-container-id-8 div.sk-estimator input.sk-toggleable__control:checked~label.sk-toggleable__label {background-color: #d4ebff;}#sk-container-id-8 div.sk-label input.sk-toggleable__control:checked~label.sk-toggleable__label {background-color: #d4ebff;}#sk-container-id-8 input.sk-hidden--visually {border: 0;clip: rect(1px 1px 1px 1px);clip: rect(1px, 1px, 1px, 1px);height: 1px;margin: -1px;overflow: hidden;padding: 0;position: absolute;width: 1px;}#sk-container-id-8 div.sk-estimator {font-family: monospace;background-color: #f0f8ff;border: 1px dotted black;border-radius: 0.25em;box-sizing: border-box;margin-bottom: 0.5em;}#sk-container-id-8 div.sk-estimator:hover {background-color: #d4ebff;}#sk-container-id-8 div.sk-parallel-item::after {content: \"\";width: 100%;border-bottom: 1px solid gray;flex-grow: 1;}#sk-container-id-8 div.sk-label:hover label.sk-toggleable__label {background-color: #d4ebff;}#sk-container-id-8 div.sk-serial::before {content: \"\";position: absolute;border-left: 1px solid gray;box-sizing: border-box;top: 0;bottom: 0;left: 50%;z-index: 0;}#sk-container-id-8 div.sk-serial {display: flex;flex-direction: column;align-items: center;background-color: white;padding-right: 0.2em;padding-left: 0.2em;position: relative;}#sk-container-id-8 div.sk-item {position: relative;z-index: 1;}#sk-container-id-8 div.sk-parallel {display: flex;align-items: stretch;justify-content: center;background-color: white;position: relative;}#sk-container-id-8 div.sk-item::before, #sk-container-id-8 div.sk-parallel-item::before {content: \"\";position: absolute;border-left: 1px solid gray;box-sizing: border-box;top: 0;bottom: 0;left: 50%;z-index: -1;}#sk-container-id-8 div.sk-parallel-item {display: flex;flex-direction: column;z-index: 1;position: relative;background-color: white;}#sk-container-id-8 div.sk-parallel-item:first-child::after {align-self: flex-end;width: 50%;}#sk-container-id-8 div.sk-parallel-item:last-child::after {align-self: flex-start;width: 50%;}#sk-container-id-8 div.sk-parallel-item:only-child::after {width: 0;}#sk-container-id-8 div.sk-dashed-wrapped {border: 1px dashed gray;margin: 0 0.4em 0.5em 0.4em;box-sizing: border-box;padding-bottom: 0.4em;background-color: white;}#sk-container-id-8 div.sk-label label {font-family: monospace;font-weight: bold;display: inline-block;line-height: 1.2em;}#sk-container-id-8 div.sk-label-container {text-align: center;}#sk-container-id-8 div.sk-container {/* jupyter's `normalize.less` sets `[hidden] { display: none; }` but bootstrap.min.css set `[hidden] { display: none !important; }` so we also need the `!important` here to be able to override the default hidden behavior on the sphinx rendered scikit-learn.org. See: https://github.com/scikit-learn/scikit-learn/issues/21755 */display: inline-block !important;position: relative;}#sk-container-id-8 div.sk-text-repr-fallback {display: none;}</style><div id=\"sk-container-id-8\" class=\"sk-top-container\"><div class=\"sk-text-repr-fallback\"><pre>AdaBoostClassifier(learning_rate=0.196, n_estimators=39, random_state=1)</pre><b>In a Jupyter environment, please rerun this cell to show the HTML representation or trust the notebook. <br />On GitHub, the HTML representation is unable to render, please try loading this page with nbviewer.org.</b></div><div class=\"sk-container\" hidden><div class=\"sk-item\"><div class=\"sk-estimator sk-toggleable\"><input class=\"sk-toggleable__control sk-hidden--visually\" id=\"sk-estimator-id-8\" type=\"checkbox\" checked><label for=\"sk-estimator-id-8\" class=\"sk-toggleable__label sk-toggleable__label-arrow\">AdaBoostClassifier</label><div class=\"sk-toggleable__content\"><pre>AdaBoostClassifier(learning_rate=0.196, n_estimators=39, random_state=1)</pre></div></div></div></div></div>"
      ],
      "text/plain": [
       "AdaBoostClassifier(learning_rate=0.196, n_estimators=39, random_state=1)"
      ]
     },
     "execution_count": 163,
     "metadata": {},
     "output_type": "execute_result"
    }
   ],
   "source": [
    "#########################  AdaBoost Classifier with Hyperparameter Tunning ############################\n",
    "\n",
    "a=\"AdaBoost Classifier with Hyperparameter Tunning\"\n",
    "obj=Model(adb,x_train,x_test,y_train,y_test)\n",
    "obj.model_training()\n",
    "obj.hyperparamter_tunning(hyperparameters)"
   ]
  },
  {
   "cell_type": "code",
   "execution_count": 164,
   "id": "be61e65a",
   "metadata": {},
   "outputs": [],
   "source": [
    "adb_hyp = AdaBoostClassifier(learning_rate=0.8230000000000001, n_estimators=17,\n",
    "                   random_state=1)"
   ]
  },
  {
   "cell_type": "code",
   "execution_count": 165,
   "id": "2ee98b82",
   "metadata": {},
   "outputs": [
    {
     "data": {
      "text/html": [
       "<div>\n",
       "<style scoped>\n",
       "    .dataframe tbody tr th:only-of-type {\n",
       "        vertical-align: middle;\n",
       "    }\n",
       "\n",
       "    .dataframe tbody tr th {\n",
       "        vertical-align: top;\n",
       "    }\n",
       "\n",
       "    .dataframe thead th {\n",
       "        text-align: right;\n",
       "    }\n",
       "</style>\n",
       "<table border=\"1\" class=\"dataframe\">\n",
       "  <thead>\n",
       "    <tr style=\"text-align: right;\">\n",
       "      <th></th>\n",
       "      <th>Model</th>\n",
       "      <th>Training_acc</th>\n",
       "      <th>Testing_acc</th>\n",
       "    </tr>\n",
       "  </thead>\n",
       "  <tbody>\n",
       "    <tr>\n",
       "      <th>0</th>\n",
       "      <td>Logistics Regression</td>\n",
       "      <td>0.802568</td>\n",
       "      <td>0.809701</td>\n",
       "    </tr>\n",
       "    <tr>\n",
       "      <th>1</th>\n",
       "      <td>KNN Classifier</td>\n",
       "      <td>0.817014</td>\n",
       "      <td>0.664179</td>\n",
       "    </tr>\n",
       "    <tr>\n",
       "      <th>2</th>\n",
       "      <td>KNN classifer with Normalization</td>\n",
       "      <td>0.860353</td>\n",
       "      <td>0.817164</td>\n",
       "    </tr>\n",
       "    <tr>\n",
       "      <th>3</th>\n",
       "      <td>KNN classifer with Standardization</td>\n",
       "      <td>0.853933</td>\n",
       "      <td>0.798507</td>\n",
       "    </tr>\n",
       "    <tr>\n",
       "      <th>4</th>\n",
       "      <td>Decision Tree Classifier</td>\n",
       "      <td>0.995185</td>\n",
       "      <td>0.764925</td>\n",
       "    </tr>\n",
       "    <tr>\n",
       "      <th>5</th>\n",
       "      <td>Decision Tree Classifier with Hyperparameter T...</td>\n",
       "      <td>0.849117</td>\n",
       "      <td>0.828358</td>\n",
       "    </tr>\n",
       "    <tr>\n",
       "      <th>6</th>\n",
       "      <td>Decision Tree Classifier with Prunning</td>\n",
       "      <td>0.911717</td>\n",
       "      <td>0.843284</td>\n",
       "    </tr>\n",
       "    <tr>\n",
       "      <th>7</th>\n",
       "      <td>Random Forest Classifier</td>\n",
       "      <td>0.995185</td>\n",
       "      <td>0.809701</td>\n",
       "    </tr>\n",
       "    <tr>\n",
       "      <th>8</th>\n",
       "      <td>Random Forest Classifier with Hyperparameter T...</td>\n",
       "      <td>0.780096</td>\n",
       "      <td>0.794776</td>\n",
       "    </tr>\n",
       "    <tr>\n",
       "      <th>9</th>\n",
       "      <td>AdaBoost Classifier</td>\n",
       "      <td>0.850722</td>\n",
       "      <td>0.802239</td>\n",
       "    </tr>\n",
       "    <tr>\n",
       "      <th>10</th>\n",
       "      <td>AdaBoost Classifier with Hyperparameter Tunning</td>\n",
       "      <td>0.817014</td>\n",
       "      <td>0.787313</td>\n",
       "    </tr>\n",
       "  </tbody>\n",
       "</table>\n",
       "</div>"
      ],
      "text/plain": [
       "                                                Model  Training_acc  \\\n",
       "0                                Logistics Regression      0.802568   \n",
       "1                                      KNN Classifier      0.817014   \n",
       "2                    KNN classifer with Normalization      0.860353   \n",
       "3                  KNN classifer with Standardization      0.853933   \n",
       "4                            Decision Tree Classifier      0.995185   \n",
       "5   Decision Tree Classifier with Hyperparameter T...      0.849117   \n",
       "6              Decision Tree Classifier with Prunning      0.911717   \n",
       "7                            Random Forest Classifier      0.995185   \n",
       "8   Random Forest Classifier with Hyperparameter T...      0.780096   \n",
       "9                                 AdaBoost Classifier      0.850722   \n",
       "10    AdaBoost Classifier with Hyperparameter Tunning      0.817014   \n",
       "\n",
       "    Testing_acc  \n",
       "0      0.809701  \n",
       "1      0.664179  \n",
       "2      0.817164  \n",
       "3      0.798507  \n",
       "4      0.764925  \n",
       "5      0.828358  \n",
       "6      0.843284  \n",
       "7      0.809701  \n",
       "8      0.794776  \n",
       "9      0.802239  \n",
       "10     0.787313  "
      ]
     },
     "execution_count": 165,
     "metadata": {},
     "output_type": "execute_result"
    }
   ],
   "source": [
    "df_comp=pd.DataFrame({\"Model\":model,\"Training_acc\":Training_acc,\"Testing_acc\":Testing_acc})\n",
    "df_comp"
   ]
  },
  {
   "cell_type": "code",
   "execution_count": 167,
   "id": "10d28083",
   "metadata": {},
   "outputs": [],
   "source": [
    "index=Testing_acc.index(max(Testing_acc))"
   ]
  },
  {
   "cell_type": "code",
   "execution_count": 168,
   "id": "1f142d76",
   "metadata": {},
   "outputs": [
    {
     "name": "stdout",
     "output_type": "stream",
     "text": [
      "Maximum Accuracy is given by Decision Tree Classifier with Prunning\n"
     ]
    }
   ],
   "source": [
    "print(f\"Maximum Accuracy is given by {model[index]}\")"
   ]
  },
  {
   "cell_type": "markdown",
   "id": "cf24f32f",
   "metadata": {},
   "source": [
    "- But Variance for Decision Tree Classifier with Prunning. \n",
    "- Hence we will prefer Decision Tree Classifier with Hyperparameter Tunning"
   ]
  },
  {
   "cell_type": "markdown",
   "id": "92065461",
   "metadata": {},
   "source": [
    "### Feature Selection"
   ]
  },
  {
   "cell_type": "code",
   "execution_count": 169,
   "id": "f75d3f3f",
   "metadata": {},
   "outputs": [],
   "source": [
    "from sklearn.feature_selection import SequentialFeatureSelector"
   ]
  },
  {
   "cell_type": "code",
   "execution_count": 193,
   "id": "727d36df",
   "metadata": {},
   "outputs": [
    {
     "data": {
      "text/plain": [
       "array(['x0', 'x1', 'x3', 'x4', 'x5'], dtype=object)"
      ]
     },
     "execution_count": 193,
     "metadata": {},
     "output_type": "execute_result"
    }
   ],
   "source": [
    "lsss=LogisticRegression()\n",
    "\n",
    "sfs=SequentialFeatureSelector(lsss,n_features_to_select=5,direction='forward',cv=5)\n",
    "\n",
    "sfs.fit(x_train,y_train)\n",
    "arr = sfs.get_support()\n",
    "# s3 = pd.Series(arr, index=x.columns)\n",
    "# s3\n",
    "\n",
    "selected_features = sfs.get_feature_names_out()\n",
    "\n",
    "selected_features\n",
    "# arr"
   ]
  },
  {
   "cell_type": "code",
   "execution_count": 177,
   "id": "f125ad7a",
   "metadata": {},
   "outputs": [
    {
     "name": "stdout",
     "output_type": "stream",
     "text": [
      "Selected Fetures for algorithm LogisticRegression() are---> ['x0', 'x1', 'x3', 'x4', 'x5']\n"
     ]
    },
    {
     "ename": "KeyError",
     "evalue": "\"None of [Index(['x0', 'x1', 'x3', 'x4', 'x5'], dtype='object')] are in the [columns]\"",
     "output_type": "error",
     "traceback": [
      "\u001b[1;31m---------------------------------------------------------------------------\u001b[0m",
      "\u001b[1;31mKeyError\u001b[0m                                  Traceback (most recent call last)",
      "Input \u001b[1;32mIn [177]\u001b[0m, in \u001b[0;36m<cell line: 27>\u001b[1;34m()\u001b[0m\n\u001b[0;32m     24\u001b[0m     \u001b[38;5;28mprint\u001b[39m(test_acc1,train_acc1)\n\u001b[0;32m     26\u001b[0m lst\u001b[38;5;241m=\u001b[39m[lr,knn,dt,rf,adb]\n\u001b[1;32m---> 27\u001b[0m \u001b[43mFwd_features_selection\u001b[49m\u001b[43m(\u001b[49m\u001b[43mlst\u001b[49m\u001b[43m)\u001b[49m\n",
      "Input \u001b[1;32mIn [177]\u001b[0m, in \u001b[0;36mFwd_features_selection\u001b[1;34m(lst)\u001b[0m\n\u001b[0;32m     11\u001b[0m selected_features\u001b[38;5;241m=\u001b[39msfs\u001b[38;5;241m.\u001b[39mget_feature_names_out()\n\u001b[0;32m     13\u001b[0m \u001b[38;5;28mprint\u001b[39m(\u001b[38;5;124mf\u001b[39m\u001b[38;5;124m\"\u001b[39m\u001b[38;5;124mSelected Fetures for algorithm \u001b[39m\u001b[38;5;132;01m{\u001b[39;00mi\u001b[38;5;132;01m}\u001b[39;00m\u001b[38;5;124m are--->\u001b[39m\u001b[38;5;124m\"\u001b[39m,\u001b[38;5;28mlist\u001b[39m(selected_features))\n\u001b[1;32m---> 15\u001b[0m y_pred\u001b[38;5;241m=\u001b[39mi\u001b[38;5;241m.\u001b[39mpredict(\u001b[43mx_test\u001b[49m\u001b[43m[\u001b[49m\u001b[43mselected_features\u001b[49m\u001b[43m]\u001b[49m)\n\u001b[0;32m     16\u001b[0m test_acc\u001b[38;5;241m=\u001b[39maccuracy_score(y_test,y_pred)\n\u001b[0;32m     17\u001b[0m test_acc1\u001b[38;5;241m.\u001b[39mappend(test_acc)\n",
      "File \u001b[1;32m~\\anaconda3\\lib\\site-packages\\pandas\\core\\frame.py:3511\u001b[0m, in \u001b[0;36mDataFrame.__getitem__\u001b[1;34m(self, key)\u001b[0m\n\u001b[0;32m   3509\u001b[0m     \u001b[38;5;28;01mif\u001b[39;00m is_iterator(key):\n\u001b[0;32m   3510\u001b[0m         key \u001b[38;5;241m=\u001b[39m \u001b[38;5;28mlist\u001b[39m(key)\n\u001b[1;32m-> 3511\u001b[0m     indexer \u001b[38;5;241m=\u001b[39m \u001b[38;5;28;43mself\u001b[39;49m\u001b[38;5;241;43m.\u001b[39;49m\u001b[43mcolumns\u001b[49m\u001b[38;5;241;43m.\u001b[39;49m\u001b[43m_get_indexer_strict\u001b[49m\u001b[43m(\u001b[49m\u001b[43mkey\u001b[49m\u001b[43m,\u001b[49m\u001b[43m \u001b[49m\u001b[38;5;124;43m\"\u001b[39;49m\u001b[38;5;124;43mcolumns\u001b[39;49m\u001b[38;5;124;43m\"\u001b[39;49m\u001b[43m)\u001b[49m[\u001b[38;5;241m1\u001b[39m]\n\u001b[0;32m   3513\u001b[0m \u001b[38;5;66;03m# take() does not accept boolean indexers\u001b[39;00m\n\u001b[0;32m   3514\u001b[0m \u001b[38;5;28;01mif\u001b[39;00m \u001b[38;5;28mgetattr\u001b[39m(indexer, \u001b[38;5;124m\"\u001b[39m\u001b[38;5;124mdtype\u001b[39m\u001b[38;5;124m\"\u001b[39m, \u001b[38;5;28;01mNone\u001b[39;00m) \u001b[38;5;241m==\u001b[39m \u001b[38;5;28mbool\u001b[39m:\n",
      "File \u001b[1;32m~\\anaconda3\\lib\\site-packages\\pandas\\core\\indexes\\base.py:5782\u001b[0m, in \u001b[0;36mIndex._get_indexer_strict\u001b[1;34m(self, key, axis_name)\u001b[0m\n\u001b[0;32m   5779\u001b[0m \u001b[38;5;28;01melse\u001b[39;00m:\n\u001b[0;32m   5780\u001b[0m     keyarr, indexer, new_indexer \u001b[38;5;241m=\u001b[39m \u001b[38;5;28mself\u001b[39m\u001b[38;5;241m.\u001b[39m_reindex_non_unique(keyarr)\n\u001b[1;32m-> 5782\u001b[0m \u001b[38;5;28;43mself\u001b[39;49m\u001b[38;5;241;43m.\u001b[39;49m\u001b[43m_raise_if_missing\u001b[49m\u001b[43m(\u001b[49m\u001b[43mkeyarr\u001b[49m\u001b[43m,\u001b[49m\u001b[43m \u001b[49m\u001b[43mindexer\u001b[49m\u001b[43m,\u001b[49m\u001b[43m \u001b[49m\u001b[43maxis_name\u001b[49m\u001b[43m)\u001b[49m\n\u001b[0;32m   5784\u001b[0m keyarr \u001b[38;5;241m=\u001b[39m \u001b[38;5;28mself\u001b[39m\u001b[38;5;241m.\u001b[39mtake(indexer)\n\u001b[0;32m   5785\u001b[0m \u001b[38;5;28;01mif\u001b[39;00m \u001b[38;5;28misinstance\u001b[39m(key, Index):\n\u001b[0;32m   5786\u001b[0m     \u001b[38;5;66;03m# GH 42790 - Preserve name from an Index\u001b[39;00m\n",
      "File \u001b[1;32m~\\anaconda3\\lib\\site-packages\\pandas\\core\\indexes\\base.py:5842\u001b[0m, in \u001b[0;36mIndex._raise_if_missing\u001b[1;34m(self, key, indexer, axis_name)\u001b[0m\n\u001b[0;32m   5840\u001b[0m     \u001b[38;5;28;01mif\u001b[39;00m use_interval_msg:\n\u001b[0;32m   5841\u001b[0m         key \u001b[38;5;241m=\u001b[39m \u001b[38;5;28mlist\u001b[39m(key)\n\u001b[1;32m-> 5842\u001b[0m     \u001b[38;5;28;01mraise\u001b[39;00m \u001b[38;5;167;01mKeyError\u001b[39;00m(\u001b[38;5;124mf\u001b[39m\u001b[38;5;124m\"\u001b[39m\u001b[38;5;124mNone of [\u001b[39m\u001b[38;5;132;01m{\u001b[39;00mkey\u001b[38;5;132;01m}\u001b[39;00m\u001b[38;5;124m] are in the [\u001b[39m\u001b[38;5;132;01m{\u001b[39;00maxis_name\u001b[38;5;132;01m}\u001b[39;00m\u001b[38;5;124m]\u001b[39m\u001b[38;5;124m\"\u001b[39m)\n\u001b[0;32m   5844\u001b[0m not_found \u001b[38;5;241m=\u001b[39m \u001b[38;5;28mlist\u001b[39m(ensure_index(key)[missing_mask\u001b[38;5;241m.\u001b[39mnonzero()[\u001b[38;5;241m0\u001b[39m]]\u001b[38;5;241m.\u001b[39munique())\n\u001b[0;32m   5845\u001b[0m \u001b[38;5;28;01mraise\u001b[39;00m \u001b[38;5;167;01mKeyError\u001b[39;00m(\u001b[38;5;124mf\u001b[39m\u001b[38;5;124m\"\u001b[39m\u001b[38;5;132;01m{\u001b[39;00mnot_found\u001b[38;5;132;01m}\u001b[39;00m\u001b[38;5;124m not in index\u001b[39m\u001b[38;5;124m\"\u001b[39m)\n",
      "\u001b[1;31mKeyError\u001b[0m: \"None of [Index(['x0', 'x1', 'x3', 'x4', 'x5'], dtype='object')] are in the [columns]\""
     ]
    }
   ],
   "source": [
    "test_acc1=[]\n",
    "train_acc1=[]\n",
    "\n",
    "def Fwd_features_selection(lst):\n",
    "    \n",
    "    for i in lst:\n",
    "        sfs=SequentialFeatureSelector(i,n_features_to_select=5)\n",
    "        \n",
    "        sfs.fit(x_train,y_train)\n",
    "        \n",
    "        selected_features=sfs.get_feature_names_out()\n",
    "        \n",
    "        print(f\"Selected Fetures for algorithm {i} are--->\",list(selected_features))\n",
    "        \n",
    "        y_pred=i.predict(x_test[selected_features])\n",
    "        test_acc=accuracy_score(y_test,y_pred)\n",
    "        test_acc1.append(test_acc)\n",
    "        \n",
    "        y_pred_train=i.predict(x_train[selected_features])\n",
    "        train_acc=accuracy_score(y_train,y_pred_train)\n",
    "        train_acc1.append(train_acc)\n",
    " \n",
    "\n",
    "    print(test_acc1,train_acc1)\n",
    "\n",
    "lst=[lr,knn,dt,rf,adb]\n",
    "Fwd_features_selection(lst)\n",
    "    \n",
    "    \n",
    "    "
   ]
  },
  {
   "cell_type": "code",
   "execution_count": 176,
   "id": "cac80166",
   "metadata": {},
   "outputs": [
    {
     "data": {
      "text/html": [
       "<div>\n",
       "<style scoped>\n",
       "    .dataframe tbody tr th:only-of-type {\n",
       "        vertical-align: middle;\n",
       "    }\n",
       "\n",
       "    .dataframe tbody tr th {\n",
       "        vertical-align: top;\n",
       "    }\n",
       "\n",
       "    .dataframe thead th {\n",
       "        text-align: right;\n",
       "    }\n",
       "</style>\n",
       "<table border=\"1\" class=\"dataframe\">\n",
       "  <thead>\n",
       "    <tr style=\"text-align: right;\">\n",
       "      <th></th>\n",
       "      <th>Model</th>\n",
       "      <th>Training_acc</th>\n",
       "      <th>Testing_acc</th>\n",
       "    </tr>\n",
       "  </thead>\n",
       "  <tbody>\n",
       "    <tr>\n",
       "      <th>0</th>\n",
       "      <td>Logistics Regression</td>\n",
       "      <td>0.802568</td>\n",
       "      <td>0.809701</td>\n",
       "    </tr>\n",
       "    <tr>\n",
       "      <th>1</th>\n",
       "      <td>KNN Classifier</td>\n",
       "      <td>0.817014</td>\n",
       "      <td>0.664179</td>\n",
       "    </tr>\n",
       "    <tr>\n",
       "      <th>2</th>\n",
       "      <td>KNN classifer with Normalization</td>\n",
       "      <td>0.860353</td>\n",
       "      <td>0.817164</td>\n",
       "    </tr>\n",
       "    <tr>\n",
       "      <th>3</th>\n",
       "      <td>KNN classifer with Standardization</td>\n",
       "      <td>0.853933</td>\n",
       "      <td>0.798507</td>\n",
       "    </tr>\n",
       "    <tr>\n",
       "      <th>4</th>\n",
       "      <td>Decision Tree Classifier</td>\n",
       "      <td>0.995185</td>\n",
       "      <td>0.764925</td>\n",
       "    </tr>\n",
       "    <tr>\n",
       "      <th>5</th>\n",
       "      <td>Decision Tree Classifier with Hyperparameter T...</td>\n",
       "      <td>0.849117</td>\n",
       "      <td>0.828358</td>\n",
       "    </tr>\n",
       "    <tr>\n",
       "      <th>6</th>\n",
       "      <td>Decision Tree Classifier with Prunning</td>\n",
       "      <td>0.911717</td>\n",
       "      <td>0.843284</td>\n",
       "    </tr>\n",
       "    <tr>\n",
       "      <th>7</th>\n",
       "      <td>Random Forest Classifier</td>\n",
       "      <td>0.995185</td>\n",
       "      <td>0.809701</td>\n",
       "    </tr>\n",
       "    <tr>\n",
       "      <th>8</th>\n",
       "      <td>Random Forest Classifier with Hyperparameter T...</td>\n",
       "      <td>0.780096</td>\n",
       "      <td>0.794776</td>\n",
       "    </tr>\n",
       "    <tr>\n",
       "      <th>9</th>\n",
       "      <td>AdaBoost Classifier</td>\n",
       "      <td>0.850722</td>\n",
       "      <td>0.802239</td>\n",
       "    </tr>\n",
       "    <tr>\n",
       "      <th>10</th>\n",
       "      <td>AdaBoost Classifier with Hyperparameter Tunning</td>\n",
       "      <td>0.817014</td>\n",
       "      <td>0.787313</td>\n",
       "    </tr>\n",
       "  </tbody>\n",
       "</table>\n",
       "</div>"
      ],
      "text/plain": [
       "                                                Model  Training_acc  \\\n",
       "0                                Logistics Regression      0.802568   \n",
       "1                                      KNN Classifier      0.817014   \n",
       "2                    KNN classifer with Normalization      0.860353   \n",
       "3                  KNN classifer with Standardization      0.853933   \n",
       "4                            Decision Tree Classifier      0.995185   \n",
       "5   Decision Tree Classifier with Hyperparameter T...      0.849117   \n",
       "6              Decision Tree Classifier with Prunning      0.911717   \n",
       "7                            Random Forest Classifier      0.995185   \n",
       "8   Random Forest Classifier with Hyperparameter T...      0.780096   \n",
       "9                                 AdaBoost Classifier      0.850722   \n",
       "10    AdaBoost Classifier with Hyperparameter Tunning      0.817014   \n",
       "\n",
       "    Testing_acc  \n",
       "0      0.809701  \n",
       "1      0.664179  \n",
       "2      0.817164  \n",
       "3      0.798507  \n",
       "4      0.764925  \n",
       "5      0.828358  \n",
       "6      0.843284  \n",
       "7      0.809701  \n",
       "8      0.794776  \n",
       "9      0.802239  \n",
       "10     0.787313  "
      ]
     },
     "execution_count": 176,
     "metadata": {},
     "output_type": "execute_result"
    }
   ],
   "source": [
    "df_comp"
   ]
  },
  {
   "cell_type": "code",
   "execution_count": null,
   "id": "ff40d830",
   "metadata": {},
   "outputs": [],
   "source": []
  }
 ],
 "metadata": {
  "kernelspec": {
   "display_name": "Python 3 (ipykernel)",
   "language": "python",
   "name": "python3"
  },
  "language_info": {
   "codemirror_mode": {
    "name": "ipython",
    "version": 3
   },
   "file_extension": ".py",
   "mimetype": "text/x-python",
   "name": "python",
   "nbconvert_exporter": "python",
   "pygments_lexer": "ipython3",
   "version": "3.10.5"
  }
 },
 "nbformat": 4,
 "nbformat_minor": 5
}
